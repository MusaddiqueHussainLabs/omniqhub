{
 "cells": [
  {
   "cell_type": "code",
   "execution_count": null,
   "metadata": {},
   "outputs": [],
   "source": [
    "from __future__ import annotations\n",
    "\n",
    "from typing import List, Optional, Sequence, Union\n",
    "\n",
    "from langchain_core.language_models import BaseLanguageModel\n",
    "from langchain_core.prompts import BasePromptTemplate\n",
    "from langchain_core.runnables import Runnable, RunnablePassthrough\n",
    "from langchain_core.tools import BaseTool\n",
    "\n",
    "from langchain.agents import AgentOutputParser\n",
    "from langchain.agents.format_scratchpad import format_log_to_str\n",
    "from langchain.agents.output_parsers import ReActSingleInputOutputParser\n",
    "from langchain.tools.render import ToolsRenderer, render_text_description\n",
    "\n",
    "\n",
    "def create_react_agent(\n",
    "    llm: BaseLanguageModel,\n",
    "    tools: Sequence[BaseTool],\n",
    "    prompt: BasePromptTemplate,\n",
    "    output_parser: Optional[AgentOutputParser] = None,\n",
    "    tools_renderer: ToolsRenderer = render_text_description,\n",
    "    *,\n",
    "    stop_sequence: Union[bool, List[str]] = True,\n",
    ") -> Runnable:\n",
    "    \"\"\"Create an agent that uses ReAct prompting.\n",
    "\n",
    "    Args:\n",
    "        llm: LLM to use as the agent.\n",
    "        tools: Tools this agent has access to.\n",
    "        prompt: The prompt to use. See Prompt section below for more.\n",
    "        output_parser: AgentOutputParser for parse the LLM output.\n",
    "        tools_renderer: This controls how the tools are converted into a string and\n",
    "            then passed into the LLM. Default is `render_text_description`.\n",
    "        stop_sequence: bool or list of str.\n",
    "            If True, adds a stop token of \"Observation:\" to avoid hallucinates.\n",
    "            If False, does not add a stop token.\n",
    "            If a list of str, uses the provided list as the stop tokens.\n",
    "\n",
    "            Default is True. You may to set this to False if the LLM you are using\n",
    "            does not support stop sequences.\n",
    "\n",
    "    Returns:\n",
    "        A Runnable sequence representing an agent. It takes as input all the same input\n",
    "        variables as the prompt passed in does. It returns as output either an\n",
    "        AgentAction or AgentFinish.\n",
    "\n",
    "    Examples:\n",
    "\n",
    "        .. code-block:: python\n",
    "\n",
    "            from langchain import hub\n",
    "            from langchain_community.llms import OpenAI\n",
    "            from langchain.agents import AgentExecutor, create_react_agent\n",
    "\n",
    "            prompt = hub.pull(\"hwchase17/react\")\n",
    "            model = OpenAI()\n",
    "            tools = ...\n",
    "\n",
    "            agent = create_react_agent(model, tools, prompt)\n",
    "            agent_executor = AgentExecutor(agent=agent, tools=tools)\n",
    "\n",
    "            agent_executor.invoke({\"input\": \"hi\"})\n",
    "\n",
    "            # Use with chat history\n",
    "            from langchain_core.messages import AIMessage, HumanMessage\n",
    "            agent_executor.invoke(\n",
    "                {\n",
    "                    \"input\": \"what's my name?\",\n",
    "                    # Notice that chat_history is a string\n",
    "                    # since this prompt is aimed at LLMs, not chat models\n",
    "                    \"chat_history\": \"Human: My name is Bob\\nAI: Hello Bob!\",\n",
    "                }\n",
    "            )\n",
    "\n",
    "    Prompt:\n",
    "\n",
    "        The prompt must have input keys:\n",
    "            * `tools`: contains descriptions and arguments for each tool.\n",
    "            * `tool_names`: contains all tool names.\n",
    "            * `agent_scratchpad`: contains previous agent actions and tool outputs as a string.\n",
    "\n",
    "        Here's an example:\n",
    "\n",
    "        .. code-block:: python\n",
    "\n",
    "            from langchain_core.prompts import PromptTemplate\n",
    "\n",
    "            template = '''Answer the following questions as best you can. You have access to the following tools:\n",
    "\n",
    "            {tools}\n",
    "\n",
    "            Use the following format:\n",
    "\n",
    "            Question: the input question you must answer\n",
    "            Thought: you should always think about what to do\n",
    "            Action: the action to take, should be one of [{tool_names}]\n",
    "            Action Input: the input to the action\n",
    "            Observation: the result of the action\n",
    "            ... (this Thought/Action/Action Input/Observation can repeat N times)\n",
    "            Thought: I now know the final answer\n",
    "            Final Answer: the final answer to the original input question\n",
    "\n",
    "            Begin!\n",
    "\n",
    "            Question: {input}\n",
    "            Thought:{agent_scratchpad}'''\n",
    "\n",
    "            prompt = PromptTemplate.from_template(template)\n",
    "    \"\"\"  # noqa: E501\n",
    "    missing_vars = {\"tools\", \"tool_names\", \"agent_scratchpad\"}.difference(\n",
    "        prompt.input_variables\n",
    "    )\n",
    "    if missing_vars:\n",
    "        raise ValueError(f\"Prompt missing required variables: {missing_vars}\")\n",
    "\n",
    "    prompt = prompt.partial(\n",
    "        tools=tools_renderer(list(tools)),\n",
    "        tool_names=\", \".join([t.name for t in tools]),\n",
    "    )\n",
    "    if stop_sequence:\n",
    "        stop = [\"\\nObservation\"] if stop_sequence is True else stop_sequence\n",
    "        llm_with_stop = llm.bind(stop=stop)\n",
    "    else:\n",
    "        llm_with_stop = llm\n",
    "    output_parser = output_parser or ReActSingleInputOutputParser()\n",
    "    agent = (\n",
    "        RunnablePassthrough.assign(\n",
    "            agent_scratchpad=lambda x: format_log_to_str(x[\"intermediate_steps\"]),\n",
    "        )\n",
    "        | prompt\n",
    "        | llm_with_stop\n",
    "        | output_parser\n",
    "    )\n",
    "    return agent"
   ]
  },
  {
   "cell_type": "code",
   "execution_count": 6,
   "metadata": {},
   "outputs": [
    {
     "data": {
      "text/plain": [
       "True"
      ]
     },
     "execution_count": 6,
     "metadata": {},
     "output_type": "execute_result"
    }
   ],
   "source": [
    "import os\n",
    "import getpass\n",
    "\n",
    "from langchain_community.vectorstores.azuresearch import AzureSearch\n",
    "from langchain_community.document_loaders import PyPDFLoader\n",
    "from langchain_community.document_loaders import TextLoader\n",
    "from langchain import hub\n",
    "from langchain_core.output_parsers import StrOutputParser, JsonOutputParser\n",
    "from langchain_core.runnables import RunnablePassthrough, RunnableParallel\n",
    "from langchain_core.prompts import PromptTemplate\n",
    "from langchain_core.pydantic_v1 import BaseModel, Field\n",
    "from langchain.tools.retriever import create_retriever_tool\n",
    "from langchain.agents import AgentExecutor, create_react_agent\n",
    "from langchain.agents.format_scratchpad import format_log_to_str\n",
    "from langchain_core.prompts import ChatPromptTemplate, MessagesPlaceholder\n",
    "# from langchain_text_splitters import CharacterTextSplitter\n",
    "import json\n",
    "\n",
    "from langchain_core.agents import AgentActionMessageLog, AgentFinish\n",
    "\n",
    "from langchain_google_genai import ChatGoogleGenerativeAI\n",
    "\n",
    "from dotenv import load_dotenv\n",
    "load_dotenv()"
   ]
  },
  {
   "cell_type": "code",
   "execution_count": 7,
   "metadata": {},
   "outputs": [],
   "source": [
    "\n",
    "\n",
    "vector_store_address: str = os.environ[\"YOUR_AZURE_SEARCH_ENDPOINT\"]\n",
    "vector_store_password: str = os.environ[\"YOUR_AZURE_SEARCH_ADMIN_KEY\"]\n",
    "\n",
    "if \"GOOGLE_API_KEY\" not in os.environ:\n",
    "    os.environ[\"GOOGLE_API_KEY\"] = getpass(\"Provide your Google API key here\")\n",
    "\n",
    "# print(os.environ[\"GOOGLE_API_KEY\"])\n",
    "    \n",
    "from langchain_google_genai import GoogleGenerativeAIEmbeddings\n",
    "\n",
    "embeddings = GoogleGenerativeAIEmbeddings(model=\"models/embedding-001\")\n",
    "\n",
    "index_name: str = \"langchain-vector-demo\"\n",
    "vector_store: AzureSearch = AzureSearch(\n",
    "    azure_search_endpoint=vector_store_address,\n",
    "    azure_search_key=vector_store_password,\n",
    "    index_name=index_name,\n",
    "    embedding_function=embeddings.embed_query,\n",
    ")"
   ]
  },
  {
   "cell_type": "code",
   "execution_count": 8,
   "metadata": {},
   "outputs": [],
   "source": [
    "retriever = vector_store.as_retriever(search_kwargs={\"k\": 3})\n",
    "\n",
    "retriever_tool = create_retriever_tool(\n",
    "    retriever,\n",
    "    \"state-of-union-retriever\",\n",
    "    \"Query a retriever to get information about state of the union address\",\n",
    ")"
   ]
  },
  {
   "cell_type": "code",
   "execution_count": 8,
   "metadata": {},
   "outputs": [],
   "source": [
    "class Response(BaseModel):\n",
    "    \"\"\"Final response to the question being asked\"\"\"\n",
    "\n",
    "    answer: str = Field(description=\"The final answer to respond to the user\")\n",
    "    sources: List[int] = Field(\n",
    "        description=\"List of page chunks that contain answer to the question. Only include a page chunk if it contains relevant information\"\n",
    "    )"
   ]
  },
  {
   "cell_type": "code",
   "execution_count": 9,
   "metadata": {},
   "outputs": [],
   "source": [
    "def parse(output):\n",
    "    # If no function was invoked, return to user\n",
    "    if \"function_call\" not in output.additional_kwargs:\n",
    "        return AgentFinish(return_values={\"output\": output.content}, log=output.content)\n",
    "\n",
    "    # Parse out the function call\n",
    "    function_call = output.additional_kwargs[\"function_call\"]\n",
    "    name = function_call[\"name\"]\n",
    "    inputs = json.loads(function_call[\"arguments\"])\n",
    "\n",
    "    # If the Response function was invoked, return to the user with the function inputs\n",
    "    if name == \"Response\":\n",
    "        return AgentFinish(return_values=inputs, log=str(function_call))\n",
    "    # Otherwise, return an agent action\n",
    "    else:\n",
    "        return AgentActionMessageLog(\n",
    "            tool=name, tool_input=inputs, log=\"\", message_log=[output]\n",
    "        )"
   ]
  },
  {
   "cell_type": "code",
   "execution_count": 11,
   "metadata": {},
   "outputs": [],
   "source": [
    "prompt = ChatPromptTemplate.from_messages(\n",
    "    [\n",
    "        (\"system\", \"You are a helpful assistant\"),\n",
    "        (\"user\", \"{input}\"),\n",
    "        MessagesPlaceholder(variable_name=\"agent_scratchpad\"),\n",
    "    ]\n",
    ")"
   ]
  },
  {
   "cell_type": "code",
   "execution_count": 13,
   "metadata": {},
   "outputs": [],
   "source": [
    "llm = ChatGoogleGenerativeAI(model=\"gemini-pro\", convert_system_message_to_human=True)"
   ]
  },
  {
   "cell_type": "code",
   "execution_count": 16,
   "metadata": {},
   "outputs": [
    {
     "ename": "AttributeError",
     "evalue": "'ChatGoogleGenerativeAI' object has no attribute 'bind_tools'",
     "output_type": "error",
     "traceback": [
      "\u001b[1;31m---------------------------------------------------------------------------\u001b[0m",
      "\u001b[1;31mAttributeError\u001b[0m                            Traceback (most recent call last)",
      "Cell \u001b[1;32mIn[16], line 1\u001b[0m\n\u001b[1;32m----> 1\u001b[0m llm_with_tools \u001b[38;5;241m=\u001b[39m \u001b[43mllm\u001b[49m\u001b[38;5;241;43m.\u001b[39;49m\u001b[43mbind_tools\u001b[49m(retriever_tool)\n",
      "\u001b[1;31mAttributeError\u001b[0m: 'ChatGoogleGenerativeAI' object has no attribute 'bind_tools'"
     ]
    }
   ],
   "source": [
    "llm_with_tools = llm.bind_tools(retriever_tool)"
   ]
  },
  {
   "cell_type": "code",
   "execution_count": null,
   "metadata": {},
   "outputs": [],
   "source": [
    "agent = (\n",
    "    {\n",
    "        \"input\": lambda x: x[\"input\"],\n",
    "        # Format agent scratchpad from intermediate steps\n",
    "        \"agent_scratchpad\": lambda x: format_to_openai_function_messages(\n",
    "            x[\"intermediate_steps\"]\n",
    "        ),\n",
    "    }\n",
    "    | prompt\n",
    "    | llm_with_tools\n",
    "    | parse\n",
    ")"
   ]
  },
  {
   "cell_type": "code",
   "execution_count": 5,
   "metadata": {},
   "outputs": [
    {
     "name": "stdout",
     "output_type": "stream",
     "text": [
      "input_variables=['context', 'question'] messages=[HumanMessagePromptTemplate(prompt=PromptTemplate(input_variables=['context', 'question'], template=\"You are an assistant for question-answering tasks. Use the following pieces of retrieved context to answer the question. If you don't know the answer, just say that you don't know. Use three sentences maximum and keep the answer concise.\\nQuestion: {question} \\nContext: {context} \\nAnswer:\"))]\n"
     ]
    }
   ],
   "source": [
    "prompt = hub.pull(\"rlm/rag-prompt\")\n",
    "print(prompt)"
   ]
  },
  {
   "cell_type": "code",
   "execution_count": 18,
   "metadata": {},
   "outputs": [
    {
     "data": {
      "text/plain": [
       "'state-of-union-retriever: Query a retriever to get information about state of the union address'"
      ]
     },
     "execution_count": 18,
     "metadata": {},
     "output_type": "execute_result"
    }
   ],
   "source": [
    "from langchain.tools.render import render_text_description\n",
    "\n",
    "rendered_tools = render_text_description([retriever_tool])\n",
    "rendered_tools"
   ]
  },
  {
   "cell_type": "code",
   "execution_count": 19,
   "metadata": {},
   "outputs": [],
   "source": [
    "from langchain_core.prompts import ChatPromptTemplate\n",
    "\n",
    "system_prompt = f\"\"\"You are an assistant that has access to the following set of tools. Here are the names and descriptions for each tool:\n",
    "\n",
    "{rendered_tools}\n",
    "\n",
    "Given the user input, return the name and input of the tool to use. Return your response as a JSON blob with 'name' and 'arguments' keys.\"\"\"\n",
    "\n",
    "prompt = ChatPromptTemplate.from_messages(\n",
    "    [(\"system\", system_prompt), (\"user\", \"{input}\")]\n",
    ")"
   ]
  },
  {
   "cell_type": "code",
   "execution_count": null,
   "metadata": {},
   "outputs": [],
   "source": [
    "from langchain_core.output_parsers import JsonOutputParser\n",
    "from operator import itemgetter\n",
    "\n",
    "chain = prompt | llm | JsonOutputParser() | itemgetter(\"arguments\") | retriever_tool\n",
    "chain.invoke({\"input\": \"does the Northwind Health Plus covers hearning exams?\"})"
   ]
  },
  {
   "cell_type": "code",
   "execution_count": 21,
   "metadata": {},
   "outputs": [
    {
     "data": {
      "text/plain": [
       "'Screenings:\\n\\nNorthwind Health Plus covers many different types of screenings, including those for cancer, diabetes, and high blood pressure. Screenings can help detect potential health issues in the early stages, when they are often easier to treat.\\n\\nExceptions:\\n\\nNorthwind Health Plus does not cover any services that are deemed medically unnecessary. This includes any services that are not recommended by your doctor, or any services that are not covered by the plan.\\n\\nTips:\\n\\nIt’s important to take advantage of the preventive care services that are covered by your Northwind Health Plus plan. Be sure to talk to your doctor about any screenings or vaccinations that you need, and don’t be afraid to ask questions about any services that you’re unsure about. Staying up-to-date on your preventive care services can help you stay healthy and catch any health issues early.\\n\\nProfessional Visits And Services COVERED SERVICES: Professional Visits And Services\\n\\nNorthwind Health Plus covers a variety of professional visits and services, including office visits, laboratory tests, and imaging services. The plan also covers diagnostic tests and treatments, as well as specialty care services.\\n\\nOffice Visits: Northwind Health Plus covers office visits with primary care physicians, specialists, and other healthcare providers. This includes well visits, sick visits, and follow- up visits. The plan also covers preventive care services, such as vaccinations and screenings.\\n\\nLaboratory Tests: Northwind Health Plus covers laboratory tests prescribed by a healthcare provider. This includes blood tests, urine tests, and other tests to diagnose and treat illnesses and injuries.\\n\\nImaging Services: Northwind Health Plus covers imaging services, including X-rays, CT scans, MRIs, and ultrasound. This coverage is subject to any applicable copayments, coinsurance, or deductibles.\\n\\nDiagnostic Tests And Treatments: Northwind Health Plus covers diagnostic tests and treatments prescribed by a healthcare provider. This includes tests to diagnose illnesses and injuries, as well as treatments to treat illnesses and injuries.\\n\\nSpecialty Care Services: Northwind Health Plus covers specialty care services, such as physical therapy, occupational therapy, and mental health services. The plan also covers services provided by specialists, such as cardiologists, endocrinologists, and neurologists.\\n\\nExceptions: Northwind Health Plus does not cover services that are not medically necessary, such as cosmetic surgery, elective treatments, and experimental treatments. In addition, the plan does not cover services for conditions that are not covered by the plan, such as pre-existing conditions.\\n\\nTips: When selecting a healthcare provider, be sure to choose one that is in-network. This will help you save money by avoiding out-of-network fees. In addition, be sure to ask your doctor or healthcare provider about any copayments, coinsurance, or deductibles that may apply to the services you receive. It is also a good idea to review your plan documents to better understand your coverage and plan benefits.\\n\\nPsychological and Neuropsychological Testing COVERED SERVICES – Psychological and Neuropsychological Testing\\n\\nNorthwind Health Plus recognizes the importance of mental health care and offers psychological and neuropsychological testing as a covered service. In this section, we will cover what these tests are, what they cover, and what the exceptions are.\\n\\nWhat are Psychological and Neuropsychological Tests?\\n\\nPsychological and neuropsychological tests are tests used to diagnose and treat mental health conditions and disorders. Psychological tests are used to assess personality, behavior, and emotions, while neuropsychological tests are used to diagnose and treat neurological disorders.\\n\\nWhat do these Tests Cover?\\n\\nScreenings:\\n\\nNorthwind Health Plus covers many different types of screenings, including those for cancer, diabetes, and high blood pressure. Screenings can help detect potential health issues in the early stages, when they are often easier to treat.\\n\\nExceptions:\\n\\nNorthwind Health Plus does not cover any services that are deemed medically unnecessary. This includes any services that are not recommended by your doctor, or any services that are not covered by the plan.\\n\\nTips:\\n\\nIt’s important to take advantage of the preventive care services that are covered by your Northwind Health Plus plan. Be sure to talk to your doctor about any screenings or vaccinations that you need, and don’t be afraid to ask questions about any services that you’re unsure about. Staying up-to-date on your preventive care services can help you stay healthy and catch any health issues early.\\n\\nProfessional Visits And Services COVERED SERVICES: Professional Visits And Services\\n\\nNorthwind Health Plus covers a variety of professional visits and services, including office visits, laboratory tests, and imaging services. The plan also covers diagnostic tests and treatments, as well as specialty care services.\\n\\nOffice Visits: Northwind Health Plus covers office visits with primary care physicians, specialists, and other healthcare providers. This includes well visits, sick visits, and follow- up visits. The plan also covers preventive care services, such as vaccinations and screenings.\\n\\nLaboratory Tests: Northwind Health Plus covers laboratory tests prescribed by a healthcare provider. This includes blood tests, urine tests, and other tests to diagnose and treat illnesses and injuries.\\n\\nImaging Services: Northwind Health Plus covers imaging services, including X-rays, CT scans, MRIs, and ultrasound. This coverage is subject to any applicable copayments, coinsurance, or deductibles.\\n\\nDiagnostic Tests And Treatments: Northwind Health Plus covers diagnostic tests and treatments prescribed by a healthcare provider. This includes tests to diagnose illnesses and injuries, as well as treatments to treat illnesses and injuries.\\n\\nSpecialty Care Services: Northwind Health Plus covers specialty care services, such as physical therapy, occupational therapy, and mental health services. The plan also covers services provided by specialists, such as cardiologists, endocrinologists, and neurologists.\\n\\nExceptions: Northwind Health Plus does not cover services that are not medically necessary, such as cosmetic surgery, elective treatments, and experimental treatments. In addition, the plan does not cover services for conditions that are not covered by the plan, such as pre-existing conditions.\\n\\nTips: When selecting a healthcare provider, be sure to choose one that is in-network. This will help you save money by avoiding out-of-network fees. In addition, be sure to ask your doctor or healthcare provider about any copayments, coinsurance, or deductibles that may apply to the services you receive. It is also a good idea to review your plan documents to better understand your coverage and plan benefits.\\n\\nPsychological and Neuropsychological Testing COVERED SERVICES – Psychological and Neuropsychological Testing\\n\\nNorthwind Health Plus recognizes the importance of mental health care and offers psychological and neuropsychological testing as a covered service. In this section, we will cover what these tests are, what they cover, and what the exceptions are.\\n\\nWhat are Psychological and Neuropsychological Tests?\\n\\nPsychological and neuropsychological tests are tests used to diagnose and treat mental health conditions and disorders. Psychological tests are used to assess personality, behavior, and emotions, while neuropsychological tests are used to diagnose and treat neurological disorders.\\n\\nWhat do these Tests Cover?\\n\\nRight To And Payment Of Benefits OTHER INFORMATION ABOUT THIS PLAN: Right To And Payment Of Benefits\\n\\nUnder the Northwind Health Plus plan, members are entitled to receive the benefits listed in the plan documents. These benefits can be received from any in-network provider, as long as all eligibility requirements are met. The plan pays for covered health care services and supplies, including preventive care services, at the rates specified in the plan documents.\\n\\nThe plan pays for covered services only after the member has met their annual deductible. The plan pays for covered services after the member has met the annual deductible, up to the maximum out-of-pocket limit. The maximum out-of-pocket limit will be specified in the plan documents. For covered services, Northwind Health Plus pays either a percentage of the cost or a fixed dollar amount, whichever is less.\\n\\nNorthwind Health Plus also pays for services that are not listed in the plan documents, if the health care provider determines that such services are medically necessary. This includes services that are not covered under the plan, such as experimental treatments and services for cosmetic purposes.\\n\\nNorthwind Health Plus also pays for emergency services, both in-network and out-of- network. To be eligible for coverage, the emergency must meet certain criteria, as specified in the plan documents. If the emergency services do not meet the criteria, the member may be responsible for the full cost of the services.\\n\\nIn addition, Northwind Health Plus may pay for services that are not covered under the plan, if the health care provider determines that such services are medically necessary. The plan will pay for these services at the rates specified in the plan documents.\\n\\nIt is important to note that all payments are subject to the terms and conditions of the plan, including any applicable copayments, coinsurance, and deductible amounts. Members should always check with their health care provider to determine if a service is covered under the plan and the amount that will be paid for the service.\\n\\nIt is also important to note that Northwind Health Plus does not pay for any services that are not medically necessary. Any services that are deemed to be for cosmetic purposes, experimental treatments, or not medically necessary will not be covered under the plan.\\n\\nMembers should also keep in mind that the plan may not cover certain services if the member has not met certain requirements, such as obtaining a referral from a primary care physician or pre-authorization from Northwind Health Plus.\\n\\nFinally, Northwind Health Plus may require pre-certification or pre-authorization for certain services. It is the responsibility of the member to ensure that pre-certification or pre-authorization is obtained prior to receiving services. Failure to obtain pre-certification or pre-authorization may result in the member being responsible for the full cost of the services.\\n\\nIn summary, Northwind Health Plus provides comprehensive coverage for medical, vision, and dental services, as well as prescription drug coverage, mental health and substance abuse coverage, and coverage for preventive care services. The plan pays for covered services after the member has met the annual deductible, up to the maximum out-of-pocket limit. The plan may also pay for services that are not listed in the plan documents, if the health care provider determines that such services are medically necessary. It is important to note that all payments are subject to the terms and conditions of the plan, and that\\n\\nmembers should always check with their health care provider to determine if a service is covered under the plan and the amount that will be paid for the service.\\n\\nVenue OTHER INFORMATION ABOUT THIS PLAN\\n\\nVenue'"
      ]
     },
     "execution_count": 21,
     "metadata": {},
     "output_type": "execute_result"
    }
   ],
   "source": [
    "from langchain_community.chat_models import ChatOpenAI\n",
    "from langchain.chains.combine_documents import create_stuff_documents_chain\n",
    "from langchain.chains import create_retrieval_chain\n",
    "from langchain import hub\n",
    "\n",
    "retrieval_qa_chat_prompt = hub.pull(\"langchain-ai/retrieval-qa-chat\")\n",
    "\n",
    "combine_docs_chain = create_stuff_documents_chain(\n",
    "    llm, retrieval_qa_chat_prompt\n",
    ")\n",
    "retrieval_chain = create_retrieval_chain(retriever, combine_docs_chain)\n",
    "\n",
    "chain.invoke({\"input\": \"does the Northwind Health Plus covers hearning exams?\"})"
   ]
  }
 ],
 "metadata": {
  "kernelspec": {
   "display_name": "Python 3",
   "language": "python",
   "name": "python3"
  },
  "language_info": {
   "codemirror_mode": {
    "name": "ipython",
    "version": 3
   },
   "file_extension": ".py",
   "mimetype": "text/x-python",
   "name": "python",
   "nbconvert_exporter": "python",
   "pygments_lexer": "ipython3",
   "version": "3.11.7"
  }
 },
 "nbformat": 4,
 "nbformat_minor": 2
}
