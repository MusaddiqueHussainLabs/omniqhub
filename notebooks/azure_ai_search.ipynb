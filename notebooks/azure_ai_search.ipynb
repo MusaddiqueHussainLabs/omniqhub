{
 "cells": [
  {
   "cell_type": "code",
   "execution_count": 2,
   "metadata": {},
   "outputs": [
    {
     "name": "stderr",
     "output_type": "stream",
     "text": [
      "d:\\MusaddiqueHussainLabs\\omniqhub\\.conda\\Lib\\site-packages\\tqdm\\auto.py:21: TqdmWarning: IProgress not found. Please update jupyter and ipywidgets. See https://ipywidgets.readthedocs.io/en/stable/user_install.html\n",
      "  from .autonotebook import tqdm as notebook_tqdm\n"
     ]
    }
   ],
   "source": [
    "import os\n",
    "import getpass\n",
    "\n",
    "from langchain_community.vectorstores.azuresearch import AzureSearch\n",
    "from langchain_community.document_loaders import PyPDFLoader\n",
    "from langchain_community.document_loaders import TextLoader\n",
    "from langchain import hub\n",
    "from langchain_core.output_parsers import StrOutputParser, JsonOutputParser\n",
    "from langchain_core.runnables import RunnablePassthrough, RunnableParallel\n",
    "from langchain_core.prompts import PromptTemplate\n",
    "from langchain_core.pydantic_v1 import BaseModel, Field\n",
    "from langchain.tools.retriever import create_retriever_tool\n",
    "from langchain.agents import AgentExecutor, create_react_agent\n",
    "from langchain.agents.format_scratchpad import format_log_to_str\n",
    "# from langchain_text_splitters import CharacterTextSplitter\n",
    "\n",
    "from langchain_google_genai import ChatGoogleGenerativeAI"
   ]
  },
  {
   "cell_type": "code",
   "execution_count": 173,
   "metadata": {},
   "outputs": [
    {
     "data": {
      "text/plain": [
       "RunnableAssign(mapper={\n",
       "  agent_scratchpad: RunnableLambda(lambda x: format_log_to_str(x['intermediate_steps']))\n",
       "})"
      ]
     },
     "execution_count": 173,
     "metadata": {},
     "output_type": "execute_result"
    }
   ],
   "source": [
    "RunnablePassthrough.assign(agent_scratchpad=lambda x: format_log_to_str(x[\"intermediate_steps\"]))"
   ]
  },
  {
   "cell_type": "code",
   "execution_count": 3,
   "metadata": {},
   "outputs": [
    {
     "data": {
      "text/plain": [
       "True"
      ]
     },
     "execution_count": 3,
     "metadata": {},
     "output_type": "execute_result"
    }
   ],
   "source": [
    "from dotenv import load_dotenv\n",
    "load_dotenv()"
   ]
  },
  {
   "cell_type": "code",
   "execution_count": 4,
   "metadata": {},
   "outputs": [],
   "source": [
    "vector_store_address: str = os.environ[\"YOUR_AZURE_SEARCH_ENDPOINT\"]\n",
    "vector_store_password: str = os.environ[\"YOUR_AZURE_SEARCH_ADMIN_KEY\"]"
   ]
  },
  {
   "cell_type": "code",
   "execution_count": 5,
   "metadata": {},
   "outputs": [],
   "source": [
    "if \"GOOGLE_API_KEY\" not in os.environ:\n",
    "    os.environ[\"GOOGLE_API_KEY\"] = getpass(\"Provide your Google API key here\")\n",
    "\n",
    "# print(os.environ[\"GOOGLE_API_KEY\"])"
   ]
  },
  {
   "cell_type": "code",
   "execution_count": 6,
   "metadata": {},
   "outputs": [],
   "source": [
    "from langchain_google_genai import GoogleGenerativeAIEmbeddings\n",
    "\n",
    "embeddings = GoogleGenerativeAIEmbeddings(model=\"models/embedding-001\")"
   ]
  },
  {
   "cell_type": "code",
   "execution_count": 7,
   "metadata": {},
   "outputs": [],
   "source": [
    "index_name: str = \"langchain-vector-demo\"\n",
    "vector_store: AzureSearch = AzureSearch(\n",
    "    azure_search_endpoint=vector_store_address,\n",
    "    azure_search_key=vector_store_password,\n",
    "    index_name=index_name,\n",
    "    embedding_function=embeddings.embed_query,\n",
    ")"
   ]
  },
  {
   "cell_type": "code",
   "execution_count": 17,
   "metadata": {},
   "outputs": [
    {
     "data": {
      "text/plain": [
       "[Document(page_content='Contoso Electronics \\nPlan and Benefit Packages', metadata={'source': 'D:\\\\MusaddiqueHussainLabs\\\\omniqhub\\\\data\\\\Benefit_Options.pdf', 'page': 0}),\n",
       " Document(page_content='This document contains information generated using a language model (Azure OpenAI). The information \\ncontained in this document is only for demonstration purposes and does not reflect the opinions or \\nbeliefs of Microsoft. Microsoft makes no representations or warranties of any kind, express or implied, \\nabout the completeness, accuracy, reliability, suitability or availability with respect to the information \\ncontained in this document. \\nAll rights reserved to Microsoft', metadata={'source': 'D:\\\\MusaddiqueHussainLabs\\\\omniqhub\\\\data\\\\Benefit_Options.pdf', 'page': 1}),\n",
       " Document(page_content='Welcome to Contoso  Electronics ! We are excited to offer our employees two comprehensive health \\ninsurance plans through Northwind Health. \\nNorthwind Health Plus  \\nNorthwind Health Plus is a comprehensive plan that provides comprehensive coverage for medical, \\nvision, and dental services. T his plan also offers prescription drug coverage, mental health and substance \\nabuse coverage, and coverage for preventive care services. With Northwind Health Plus, you can choose \\nfrom a variety of in -network providers, including primary care physicians, sp ecialists, hospitals, and \\npharmacies. This plan also offers coverage for emergency services, both in -network and out -of-network.\\nNorthwind Standard  \\nNorthwind Standard is a basic plan that provides coverage for medical, vision, and dental services. This \\nplan also offers coverage for preventive care services, as well as prescription drug coverage. With \\nNorthwind Standard, you can choose from a variety of in -network providers, including primary care \\nphysicians, specialists, hospitals, and pharmacies. This plan  does not offer coverage for emergency \\nservices, mental health and substance abuse coverage, or out -of-network services.\\nComparison of Plans \\nBoth plans offer coverage for routine physicals, well -child visits, immunizations, and other preventive \\ncare servi ces. The plans also cover preventive care services such as mammograms, colonoscopies, and \\nother cancer screenings. \\nNorthwind Health Plus offers more comprehensive coverage than Northwind Standard. This plan offers \\ncoverage for emergency services, both in -network and out -of-network, as well as mental health and \\nsubstance abuse coverage. Northwind Standard does not offer coverage for emergency services, mental \\nhealth and substance abuse coverage, or out -of-network services. \\nBoth plans offer coverage for pre scription drugs. Northwind Health Plus offers a wider range of \\nprescription drug coverage than Northwind Standard. Northwind Health Plus covers generic, brand -\\nname, and specialty drugs, while Northwind Standard only covers generic and brand -name drugs. \\nBoth plans offer coverage for vision and dental services. Northwind Health Plus offers coverage for vision \\nexams, glasses, and contact lenses, as well as dental exams, cleanings, and fillings. Northwind Standard \\nonly offers coverage for vision exams and glas ses. \\nBoth plans offer coverage for medical services. Northwind Health Plus offers coverage for hospital stays, \\ndoctor visits, lab tests, and X -rays. Northwind Standard only offers coverage for doctor visits and lab \\ntests. \\nNorthwind Health Plus is a compr ehensive plan that offers more coverage than Northwind Standard. \\nNorthwind Health Plus offers coverage for emergency services, mental health and substance abuse \\ncoverage, and out -of-network services, while Northwind Standard does not. Northwind Health Plus  also', metadata={'source': 'D:\\\\MusaddiqueHussainLabs\\\\omniqhub\\\\data\\\\Benefit_Options.pdf', 'page': 2}),\n",
       " Document(page_content=\"offers a wider range of prescription drug coverage than Northwind Standard. Both plans offer coverage \\nfor vision and dental services, as well as medical services.  \\nCost Comparison\\nContoso Electronics deducts the employee's portion of the healthcare cost from each paycheck . This \\nmeans that the cost of the health insurance will be spread out over the course of the year, rather \\nthan being paid in one lump sum. The employee's portion of the cost will be calculated based on the \\nselected health plan and the number of people covered by the insurance. The table below shows a \\ncost comparison between the different health plans offered by Contoso Electronics:\\nNext Steps \\nWe hope that this information has been helpful in understanding the differences between Northwind \\nHealth Plus and Northwind Standard. We \\nare confident that you will find the right plan for you and \\nyour family. Thank you for choosing Contoso Electronics!\", metadata={'source': 'D:\\\\MusaddiqueHussainLabs\\\\omniqhub\\\\data\\\\Benefit_Options.pdf', 'page': 3})]"
      ]
     },
     "execution_count": 17,
     "metadata": {},
     "output_type": "execute_result"
    }
   ],
   "source": [
    "loader = PyPDFLoader(\"D:\\MusaddiqueHussainLabs\\omniqhub\\data\\Benefit_Options.pdf\")\n",
    "documents = loader.load_and_split()\n",
    "documents"
   ]
  },
  {
   "cell_type": "code",
   "execution_count": 18,
   "metadata": {},
   "outputs": [
    {
     "data": {
      "text/plain": [
       "['ZTBiYTUyZjktOTkwMi00NDlkLWEzYmMtYzJiZGQ5ZDVhZmY0',\n",
       " 'M2FkMjBiOTEtMWE1NC00NDMwLTgwMmQtNGJlY2JkYWQ4NGY0',\n",
       " 'YjllYjBkMzctM2IzYS00MGNhLWFlZmMtNTkyNWVmMjY0NjBl',\n",
       " 'MjVmNDMzZDUtNzRmNC00YWIyLThmOGUtMjFkMDI4NzcxMjdj']"
      ]
     },
     "execution_count": 18,
     "metadata": {},
     "output_type": "execute_result"
    }
   ],
   "source": [
    "vector_store.add_documents(documents=documents)"
   ]
  },
  {
   "cell_type": "code",
   "execution_count": 47,
   "metadata": {},
   "outputs": [
    {
     "data": {
      "text/plain": [
       "{'source': 'C:\\\\Users\\\\musad\\\\AppData\\\\Local\\\\Temp\\\\tmptsmcfi_m/omnihub-container/Northwind_Health_Plus_Benefits_Details.pdf'}"
      ]
     },
     "execution_count": 47,
     "metadata": {},
     "output_type": "execute_result"
    }
   ],
   "source": [
    "# Perform a similarity search\n",
    "docs = vector_store.similarity_search(\n",
    "    query=\"What is included in my Northwind Health Plus plan that is not in standard?\",\n",
    "    k=3,\n",
    "    search_type=\"hybrid\",\n",
    ")\n",
    "\n",
    "docs[0].metadata"
   ]
  },
  {
   "cell_type": "code",
   "execution_count": 41,
   "metadata": {},
   "outputs": [],
   "source": [
    "# Retrieve and generate using the relevant snippets of the blog.\n",
    "retriever = vector_store.as_retriever(search_kwargs={\"k\": 3})\n",
    "prompt = hub.pull(\"rlm/rag-prompt\")\n",
    "llm = ChatGoogleGenerativeAI(model=\"gemini-pro\")"
   ]
  },
  {
   "cell_type": "code",
   "execution_count": 42,
   "metadata": {},
   "outputs": [],
   "source": [
    "def format_docs(docs):\n",
    "    return \"\\n\\n\".join(doc.page_content for doc in docs)\n",
    "\n",
    "rag_chain = (\n",
    "    {\"context\": retriever | format_docs, \"question\": RunnablePassthrough()}\n",
    "    | prompt\n",
    "    | llm\n",
    "    | StrOutputParser()\n",
    ")"
   ]
  },
  {
   "cell_type": "code",
   "execution_count": 46,
   "metadata": {},
   "outputs": [],
   "source": [
    "from langchain.globals import set_verbose, set_debug\n",
    "\n",
    "set_debug(False)\n",
    "set_verbose(False)\n",
    "\n",
    "# result = rag_chain.invoke(\"WHAT DO I DO IF I'M OUTSIDE WASHINGTON?\")\n",
    "# print(result)"
   ]
  },
  {
   "cell_type": "code",
   "execution_count": 65,
   "metadata": {},
   "outputs": [],
   "source": [
    "# Define your desired data structure.\n",
    "class Joke(BaseModel):\n",
    "    answer: str = Field(description=\"the answer to the question. If no source available, put the answer as I don't know.\")\n",
    "    # thoughts: str = Field(description=\"brief thoughts on how you came up with the answer, e.g. what sources you used, what you thought about, etc.\")\n",
    "    thoughts: str = Field(description=\"brief thoughts on how you came up with the answer, you should always think about what to do, the action to take, the result of the action and the finaly return the complete thoughts process to the original input question\")\n",
    "#     thoughts: str = Field(description=\"\"\"Use the following format:\n",
    "\n",
    "# Question: the input question you must answer\n",
    "# Thought: you should always think about what to do\n",
    "# Action: the action to take,\n",
    "# Action Input: the input to the action\n",
    "# Observation: the result of the action\n",
    "# ... (this Thought/Action/Action Input/Observation can repeat N times)\n",
    "# Thought: I now know the final answer\n",
    "# Final Answer: the final answer to the original input question\n",
    "\n",
    "# Begin!\n",
    "\n",
    "# Question: \n",
    "# Thoughts:\"\"\")"
   ]
  },
  {
   "cell_type": "code",
   "execution_count": 66,
   "metadata": {},
   "outputs": [],
   "source": [
    "# Set up a parser + inject instructions into the prompt template.\n",
    "parser = JsonOutputParser(pydantic_object=Joke)"
   ]
  },
  {
   "cell_type": "code",
   "execution_count": 70,
   "metadata": {},
   "outputs": [],
   "source": [
    "template = \"\"\"You are a system assistant who helps the company employees with their questions. Be brief in your answers.\n",
    "Use the following pieces of context to answer the question at the end.\n",
    "If you don't know the answer, just say that you don't know, don't try to make up an answer.\n",
    "Use three sentences maximum and keep the answer as concise as possible.\n",
    "Always say \"thanks for asking!\" at the end of the answer.\n",
    "\n",
    "{context}\n",
    "\n",
    "{format_instructions}\n",
    "\n",
    "Question: {question}\"\"\"\n",
    "# custom_rag_prompt = PromptTemplate.from_template(template)\n",
    "custom_rag_prompt = PromptTemplate(\n",
    "    template=template,\n",
    "    input_variables=[\"question\"],\n",
    "    partial_variables={\"format_instructions\": parser.get_format_instructions()},\n",
    ")\n",
    "\n",
    "rag_chain = (\n",
    "    {\"context\": retriever | format_docs, \"question\": RunnablePassthrough()}\n",
    "    | custom_rag_prompt\n",
    "    | llm\n",
    "    | parser\n",
    ")\n",
    "\n"
   ]
  },
  {
   "cell_type": "code",
   "execution_count": null,
   "metadata": {},
   "outputs": [],
   "source": [
    "query = \"provide some tips related to Northwind Health Plus plan?\"\n",
    "\n",
    "rag_chain.invoke(query)"
   ]
  },
  {
   "cell_type": "code",
   "execution_count": 71,
   "metadata": {},
   "outputs": [],
   "source": [
    "rag_chain_from_docs = (\n",
    "    RunnablePassthrough.assign(context=(lambda x: format_docs(x[\"context\"])))\n",
    "    | custom_rag_prompt\n",
    "    | llm\n",
    "    | parser\n",
    ")\n",
    "\n",
    "rag_chain_with_source = RunnableParallel(\n",
    "    {\"context\": retriever, \"question\": RunnablePassthrough()}\n",
    ").assign(answer=rag_chain_from_docs)\n",
    "\n"
   ]
  },
  {
   "cell_type": "code",
   "execution_count": 72,
   "metadata": {},
   "outputs": [
    {
     "data": {
      "text/plain": [
       "{'context': [Document(page_content='Right To And Payment Of Benefits OTHER INFORMATION ABOUT THIS PLAN: Right To And Payment Of Benefits\\n\\nUnder the Northwind Health Plus plan, members are entitled to receive the benefits listed in the plan documents. These benefits can be received from any in-network provider, as long as all eligibility requirements are met. The plan pays for covered health care services and supplies, including preventive care services, at the rates specified in the plan documents.\\n\\nThe plan pays for covered services only after the member has met their annual deductible. The plan pays for covered services after the member has met the annual deductible, up to the maximum out-of-pocket limit. The maximum out-of-pocket limit will be specified in the plan documents. For covered services, Northwind Health Plus pays either a percentage of the cost or a fixed dollar amount, whichever is less.\\n\\nNorthwind Health Plus also pays for services that are not listed in the plan documents, if the health care provider determines that such services are medically necessary. This includes services that are not covered under the plan, such as experimental treatments and services for cosmetic purposes.\\n\\nNorthwind Health Plus also pays for emergency services, both in-network and out-of- network. To be eligible for coverage, the emergency must meet certain criteria, as specified in the plan documents. If the emergency services do not meet the criteria, the member may be responsible for the full cost of the services.\\n\\nIn addition, Northwind Health Plus may pay for services that are not covered under the plan, if the health care provider determines that such services are medically necessary. The plan will pay for these services at the rates specified in the plan documents.\\n\\nIt is important to note that all payments are subject to the terms and conditions of the plan, including any applicable copayments, coinsurance, and deductible amounts. Members should always check with their health care provider to determine if a service is covered under the plan and the amount that will be paid for the service.\\n\\nIt is also important to note that Northwind Health Plus does not pay for any services that are not medically necessary. Any services that are deemed to be for cosmetic purposes, experimental treatments, or not medically necessary will not be covered under the plan.\\n\\nMembers should also keep in mind that the plan may not cover certain services if the member has not met certain requirements, such as obtaining a referral from a primary care physician or pre-authorization from Northwind Health Plus.\\n\\nFinally, Northwind Health Plus may require pre-certification or pre-authorization for certain services. It is the responsibility of the member to ensure that pre-certification or pre-authorization is obtained prior to receiving services. Failure to obtain pre-certification or pre-authorization may result in the member being responsible for the full cost of the services.\\n\\nIn summary, Northwind Health Plus provides comprehensive coverage for medical, vision, and dental services, as well as prescription drug coverage, mental health and substance abuse coverage, and coverage for preventive care services. The plan pays for covered services after the member has met the annual deductible, up to the maximum out-of-pocket limit. The plan may also pay for services that are not listed in the plan documents, if the health care provider determines that such services are medically necessary. It is important to note that all payments are subject to the terms and conditions of the plan, and that\\n\\nmembers should always check with their health care provider to determine if a service is covered under the plan and the amount that will be paid for the service.\\n\\nVenue OTHER INFORMATION ABOUT THIS PLAN\\n\\nVenue', metadata={'source': 'C:\\\\Users\\\\musad\\\\AppData\\\\Local\\\\Temp\\\\tmptsmcfi_m/omnihub-container/Northwind_Health_Plus_Benefits_Details.pdf'}),\n",
       "  Document(page_content='Right To And Payment Of Benefits OTHER INFORMATION ABOUT THIS PLAN: Right To And Payment Of Benefits\\n\\nUnder the Northwind Health Plus plan, members are entitled to receive the benefits listed in the plan documents. These benefits can be received from any in-network provider, as long as all eligibility requirements are met. The plan pays for covered health care services and supplies, including preventive care services, at the rates specified in the plan documents.\\n\\nThe plan pays for covered services only after the member has met their annual deductible. The plan pays for covered services after the member has met the annual deductible, up to the maximum out-of-pocket limit. The maximum out-of-pocket limit will be specified in the plan documents. For covered services, Northwind Health Plus pays either a percentage of the cost or a fixed dollar amount, whichever is less.\\n\\nNorthwind Health Plus also pays for services that are not listed in the plan documents, if the health care provider determines that such services are medically necessary. This includes services that are not covered under the plan, such as experimental treatments and services for cosmetic purposes.\\n\\nNorthwind Health Plus also pays for emergency services, both in-network and out-of- network. To be eligible for coverage, the emergency must meet certain criteria, as specified in the plan documents. If the emergency services do not meet the criteria, the member may be responsible for the full cost of the services.\\n\\nIn addition, Northwind Health Plus may pay for services that are not covered under the plan, if the health care provider determines that such services are medically necessary. The plan will pay for these services at the rates specified in the plan documents.\\n\\nIt is important to note that all payments are subject to the terms and conditions of the plan, including any applicable copayments, coinsurance, and deductible amounts. Members should always check with their health care provider to determine if a service is covered under the plan and the amount that will be paid for the service.\\n\\nIt is also important to note that Northwind Health Plus does not pay for any services that are not medically necessary. Any services that are deemed to be for cosmetic purposes, experimental treatments, or not medically necessary will not be covered under the plan.\\n\\nMembers should also keep in mind that the plan may not cover certain services if the member has not met certain requirements, such as obtaining a referral from a primary care physician or pre-authorization from Northwind Health Plus.\\n\\nFinally, Northwind Health Plus may require pre-certification or pre-authorization for certain services. It is the responsibility of the member to ensure that pre-certification or pre-authorization is obtained prior to receiving services. Failure to obtain pre-certification or pre-authorization may result in the member being responsible for the full cost of the services.\\n\\nIn summary, Northwind Health Plus provides comprehensive coverage for medical, vision, and dental services, as well as prescription drug coverage, mental health and substance abuse coverage, and coverage for preventive care services. The plan pays for covered services after the member has met the annual deductible, up to the maximum out-of-pocket limit. The plan may also pay for services that are not listed in the plan documents, if the health care provider determines that such services are medically necessary. It is important to note that all payments are subject to the terms and conditions of the plan, and that\\n\\nmembers should always check with their health care provider to determine if a service is covered under the plan and the amount that will be paid for the service.\\n\\nVenue OTHER INFORMATION ABOUT THIS PLAN\\n\\nVenue', metadata={'source': 'C:\\\\Users\\\\musad\\\\AppData\\\\Local\\\\Temp\\\\tmp28gbm2bg/omnihub-container/Northwind_Health_Plus_Benefits_Details.pdf'}),\n",
       "  Document(page_content='Screenings:\\n\\nNorthwind Health Plus covers many different types of screenings, including those for cancer, diabetes, and high blood pressure. Screenings can help detect potential health issues in the early stages, when they are often easier to treat.\\n\\nExceptions:\\n\\nNorthwind Health Plus does not cover any services that are deemed medically unnecessary. This includes any services that are not recommended by your doctor, or any services that are not covered by the plan.\\n\\nTips:\\n\\nIt’s important to take advantage of the preventive care services that are covered by your Northwind Health Plus plan. Be sure to talk to your doctor about any screenings or vaccinations that you need, and don’t be afraid to ask questions about any services that you’re unsure about. Staying up-to-date on your preventive care services can help you stay healthy and catch any health issues early.\\n\\nProfessional Visits And Services COVERED SERVICES: Professional Visits And Services\\n\\nNorthwind Health Plus covers a variety of professional visits and services, including office visits, laboratory tests, and imaging services. The plan also covers diagnostic tests and treatments, as well as specialty care services.\\n\\nOffice Visits: Northwind Health Plus covers office visits with primary care physicians, specialists, and other healthcare providers. This includes well visits, sick visits, and follow- up visits. The plan also covers preventive care services, such as vaccinations and screenings.\\n\\nLaboratory Tests: Northwind Health Plus covers laboratory tests prescribed by a healthcare provider. This includes blood tests, urine tests, and other tests to diagnose and treat illnesses and injuries.\\n\\nImaging Services: Northwind Health Plus covers imaging services, including X-rays, CT scans, MRIs, and ultrasound. This coverage is subject to any applicable copayments, coinsurance, or deductibles.\\n\\nDiagnostic Tests And Treatments: Northwind Health Plus covers diagnostic tests and treatments prescribed by a healthcare provider. This includes tests to diagnose illnesses and injuries, as well as treatments to treat illnesses and injuries.\\n\\nSpecialty Care Services: Northwind Health Plus covers specialty care services, such as physical therapy, occupational therapy, and mental health services. The plan also covers services provided by specialists, such as cardiologists, endocrinologists, and neurologists.\\n\\nExceptions: Northwind Health Plus does not cover services that are not medically necessary, such as cosmetic surgery, elective treatments, and experimental treatments. In addition, the plan does not cover services for conditions that are not covered by the plan, such as pre-existing conditions.\\n\\nTips: When selecting a healthcare provider, be sure to choose one that is in-network. This will help you save money by avoiding out-of-network fees. In addition, be sure to ask your doctor or healthcare provider about any copayments, coinsurance, or deductibles that may apply to the services you receive. It is also a good idea to review your plan documents to better understand your coverage and plan benefits.\\n\\nPsychological and Neuropsychological Testing COVERED SERVICES – Psychological and Neuropsychological Testing\\n\\nNorthwind Health Plus recognizes the importance of mental health care and offers psychological and neuropsychological testing as a covered service. In this section, we will cover what these tests are, what they cover, and what the exceptions are.\\n\\nWhat are Psychological and Neuropsychological Tests?\\n\\nPsychological and neuropsychological tests are tests used to diagnose and treat mental health conditions and disorders. Psychological tests are used to assess personality, behavior, and emotions, while neuropsychological tests are used to diagnose and treat neurological disorders.\\n\\nWhat do these Tests Cover?', metadata={'source': 'C:\\\\Users\\\\musad\\\\AppData\\\\Local\\\\Temp\\\\tmptsmcfi_m/omnihub-container/Northwind_Health_Plus_Benefits_Details.pdf'})],\n",
       " 'question': 'what are all services covered under Northwind Health Plus plan?',\n",
       " 'answer': {'answer': 'Northwind Health Plus plan covers medical, vision, and dental services, as well as prescription drug coverage, mental health and substance abuse coverage, and coverage for preventive care services.',\n",
       "  'thoughts': 'The context describes Northwind Health Plus plan coverage in great detail, I looked for services covered under the plan and listed them in my answer.'}}"
      ]
     },
     "execution_count": 72,
     "metadata": {},
     "output_type": "execute_result"
    }
   ],
   "source": [
    "result = rag_chain_with_source.invoke(\"what are all services covered under Northwind Health Plus plan?\")\n",
    "result"
   ]
  },
  {
   "cell_type": "code",
   "execution_count": null,
   "metadata": {},
   "outputs": [],
   "source": [
    "from langchain.schema.document import Document\n",
    "\n",
    "Document()"
   ]
  },
  {
   "cell_type": "code",
   "execution_count": 16,
   "metadata": {},
   "outputs": [
    {
     "data": {
      "text/plain": [
       "['Northwind_Health_Plus.pdf', 'Northwind_Health_Plus_Benefits_Details.pdf']"
      ]
     },
     "execution_count": 16,
     "metadata": {},
     "output_type": "execute_result"
    }
   ],
   "source": [
    "docs = result['context']\n",
    "doc_name = set()\n",
    "\n",
    "for doc in docs:\n",
    "\n",
    "    path = doc.metadata['source']\n",
    "    pdf_name = os.path.basename(path)\n",
    "\n",
    "    doc_name.add(pdf_name)\n",
    "\n",
    "doc_name.add('Northwind_Health_Plus.pdf')\n",
    "doc_name_list = list(doc_name)\n",
    "doc_name_list"
   ]
  },
  {
   "cell_type": "code",
   "execution_count": 81,
   "metadata": {},
   "outputs": [
    {
     "data": {
      "text/plain": [
       "'this is final ans [Northwind_Health_Plus_Benefits_Details.pdf][Northwind_Health_Plus.pdf]'"
      ]
     },
     "execution_count": 81,
     "metadata": {},
     "output_type": "execute_result"
    }
   ],
   "source": [
    "str_doc = \"\"\n",
    "for singdoc in doc_name_list:\n",
    "    str_doc += \"[\"+singdoc+\"]\"\n",
    "\n",
    "str_doc\n",
    "\n",
    "ans = \"this is final ans \"\n",
    "ans += str_doc\n",
    "ans"
   ]
  },
  {
   "cell_type": "code",
   "execution_count": 73,
   "metadata": {},
   "outputs": [],
   "source": [
    "\n",
    "tool = create_retriever_tool(\n",
    "    retriever,\n",
    "    \"Search_Northwind_Health_Plus_Benefits_Details\",\n",
    "    \"Search Northwind Health Plus Benefits and Details and return answer to employee question\",\n",
    ")\n",
    "tools = [tool]\n",
    "\n",
    "# Get the prompt to use - you can modify this!\n",
    "prompt = hub.pull(\"hwchase17/react\")\n",
    "\n",
    "# Construct the ReAct agent\n",
    "agent = create_react_agent(llm, tools, prompt)"
   ]
  },
  {
   "cell_type": "code",
   "execution_count": 100,
   "metadata": {},
   "outputs": [],
   "source": [
    "# Create an agent executor by passing in the agent and tools\n",
    "agent_executor = AgentExecutor(agent=agent, tools=tools, verbose=False, return_intermediate_steps=True)"
   ]
  },
  {
   "cell_type": "code",
   "execution_count": 104,
   "metadata": {},
   "outputs": [],
   "source": [
    "agent_result = agent_executor.invoke({\"input\": \"what are all health plan services covered?\"})"
   ]
  },
  {
   "cell_type": "code",
   "execution_count": 109,
   "metadata": {},
   "outputs": [
    {
     "data": {
      "text/plain": [
       "{'input': 'what are all health plan services covered?',\n",
       " 'output': 'The Northwind Health Plus plan covers a wide range of health care services and supplies, including preventive care services, medical, vision, and dental services, prescription drug coverage, mental health and substance abuse coverage, and coverage for skilled nursing facility services and spinal and other manipulations.',\n",
       " 'intermediate_steps': [(AgentAction(tool='Search_Northwind_Health_Plus_Benefits_Details', tool_input='What are all health plan services covered?', log='Action: Search_Northwind_Health_Plus_Benefits_Details\\nAction Input: What are all health plan services covered?'),\n",
       "   \"Right To And Payment Of Benefits OTHER INFORMATION ABOUT THIS PLAN: Right To And Payment Of Benefits\\n\\nUnder the Northwind Health Plus plan, members are entitled to receive the benefits listed in the plan documents. These benefits can be received from any in-network provider, as long as all eligibility requirements are met. The plan pays for covered health care services and supplies, including preventive care services, at the rates specified in the plan documents.\\n\\nThe plan pays for covered services only after the member has met their annual deductible. The plan pays for covered services after the member has met the annual deductible, up to the maximum out-of-pocket limit. The maximum out-of-pocket limit will be specified in the plan documents. For covered services, Northwind Health Plus pays either a percentage of the cost or a fixed dollar amount, whichever is less.\\n\\nNorthwind Health Plus also pays for services that are not listed in the plan documents, if the health care provider determines that such services are medically necessary. This includes services that are not covered under the plan, such as experimental treatments and services for cosmetic purposes.\\n\\nNorthwind Health Plus also pays for emergency services, both in-network and out-of- network. To be eligible for coverage, the emergency must meet certain criteria, as specified in the plan documents. If the emergency services do not meet the criteria, the member may be responsible for the full cost of the services.\\n\\nIn addition, Northwind Health Plus may pay for services that are not covered under the plan, if the health care provider determines that such services are medically necessary. The plan will pay for these services at the rates specified in the plan documents.\\n\\nIt is important to note that all payments are subject to the terms and conditions of the plan, including any applicable copayments, coinsurance, and deductible amounts. Members should always check with their health care provider to determine if a service is covered under the plan and the amount that will be paid for the service.\\n\\nIt is also important to note that Northwind Health Plus does not pay for any services that are not medically necessary. Any services that are deemed to be for cosmetic purposes, experimental treatments, or not medically necessary will not be covered under the plan.\\n\\nMembers should also keep in mind that the plan may not cover certain services if the member has not met certain requirements, such as obtaining a referral from a primary care physician or pre-authorization from Northwind Health Plus.\\n\\nFinally, Northwind Health Plus may require pre-certification or pre-authorization for certain services. It is the responsibility of the member to ensure that pre-certification or pre-authorization is obtained prior to receiving services. Failure to obtain pre-certification or pre-authorization may result in the member being responsible for the full cost of the services.\\n\\nIn summary, Northwind Health Plus provides comprehensive coverage for medical, vision, and dental services, as well as prescription drug coverage, mental health and substance abuse coverage, and coverage for preventive care services. The plan pays for covered services after the member has met the annual deductible, up to the maximum out-of-pocket limit. The plan may also pay for services that are not listed in the plan documents, if the health care provider determines that such services are medically necessary. It is important to note that all payments are subject to the terms and conditions of the plan, and that\\n\\nmembers should always check with their health care provider to determine if a service is covered under the plan and the amount that will be paid for the service.\\n\\nVenue OTHER INFORMATION ABOUT THIS PLAN\\n\\nVenue\\n\\nRight To And Payment Of Benefits OTHER INFORMATION ABOUT THIS PLAN: Right To And Payment Of Benefits\\n\\nUnder the Northwind Health Plus plan, members are entitled to receive the benefits listed in the plan documents. These benefits can be received from any in-network provider, as long as all eligibility requirements are met. The plan pays for covered health care services and supplies, including preventive care services, at the rates specified in the plan documents.\\n\\nThe plan pays for covered services only after the member has met their annual deductible. The plan pays for covered services after the member has met the annual deductible, up to the maximum out-of-pocket limit. The maximum out-of-pocket limit will be specified in the plan documents. For covered services, Northwind Health Plus pays either a percentage of the cost or a fixed dollar amount, whichever is less.\\n\\nNorthwind Health Plus also pays for services that are not listed in the plan documents, if the health care provider determines that such services are medically necessary. This includes services that are not covered under the plan, such as experimental treatments and services for cosmetic purposes.\\n\\nNorthwind Health Plus also pays for emergency services, both in-network and out-of- network. To be eligible for coverage, the emergency must meet certain criteria, as specified in the plan documents. If the emergency services do not meet the criteria, the member may be responsible for the full cost of the services.\\n\\nIn addition, Northwind Health Plus may pay for services that are not covered under the plan, if the health care provider determines that such services are medically necessary. The plan will pay for these services at the rates specified in the plan documents.\\n\\nIt is important to note that all payments are subject to the terms and conditions of the plan, including any applicable copayments, coinsurance, and deductible amounts. Members should always check with their health care provider to determine if a service is covered under the plan and the amount that will be paid for the service.\\n\\nIt is also important to note that Northwind Health Plus does not pay for any services that are not medically necessary. Any services that are deemed to be for cosmetic purposes, experimental treatments, or not medically necessary will not be covered under the plan.\\n\\nMembers should also keep in mind that the plan may not cover certain services if the member has not met certain requirements, such as obtaining a referral from a primary care physician or pre-authorization from Northwind Health Plus.\\n\\nFinally, Northwind Health Plus may require pre-certification or pre-authorization for certain services. It is the responsibility of the member to ensure that pre-certification or pre-authorization is obtained prior to receiving services. Failure to obtain pre-certification or pre-authorization may result in the member being responsible for the full cost of the services.\\n\\nIn summary, Northwind Health Plus provides comprehensive coverage for medical, vision, and dental services, as well as prescription drug coverage, mental health and substance abuse coverage, and coverage for preventive care services. The plan pays for covered services after the member has met the annual deductible, up to the maximum out-of-pocket limit. The plan may also pay for services that are not listed in the plan documents, if the health care provider determines that such services are medically necessary. It is important to note that all payments are subject to the terms and conditions of the plan, and that\\n\\nmembers should always check with their health care provider to determine if a service is covered under the plan and the amount that will be paid for the service.\\n\\nVenue OTHER INFORMATION ABOUT THIS PLAN\\n\\nVenue\\n\\nNorthwind Health Plus plan. Finally, you should ask your doctor or health care provider about any co-pays or coinsurance that may apply to the services.\\n\\nSkilled Nursing Facility Services Skilled Nursing Facility Services\\n\\nNorthwind Health Plus provides comprehensive coverage for skilled nursing facility services. This coverage includes a wide range of services such as nursing care, physical therapy, occupational therapy, and speech-language pathology services. These services are generally provided on an inpatient basis in a skilled nursing facility or hospital setting.\\n\\nThis plan also covers services provided in a Medicare-certified skilled nursing facility, as well as services provided in a non-Medicare-certified facility. For those enrolled in the plan, services provided in a non-Medicare-certified facility will be covered up to the same coverage limits as those provided in a Medicare-certified facility.\\n\\nSkilled nursing facility services are generally provided on an inpatient basis and are generally provided under the supervision of a physician. These services can include nursing care, physical therapy, occupational therapy, and speech-language pathology services.\\n\\nIn order to be eligible for coverage under Northwind Health Plus, the services must be medically necessary and must be ordered by the patient's attending physician. The services must also be provided by a facility that is licensed and accredited by the appropriate state or local government agency and must meet all applicable state and federal regulations.\\n\\nIn addition, Northwind Health Plus does not cover services that are not medically necessary or services that are provided for the convenience of the patient. Furthermore, Northwind Health Plus does not cover services that are not ordered by the patient's attending physician or services that are provided by an unlicensed or unaccredited facility.\\n\\nIt is important to note that the coverage limits for skilled nursing facility services may vary by state. Therefore, it is important to check with Northwind Health Plus for coverage limits in your state.\\n\\nTips for Employees:\\n\\nWhen selecting a skilled nursing facility, it is important to ensure that the facility is licensed and accredited by the appropriate state or local government agency and that it meets all applicable state and federal regulations.\\n\\nBe sure to check with Northwind Health Plus for coverage limits in your state so you are aware of the maximum coverage available.\\n\\nMake sure that any services provided are medically necessary and ordered by your attending physician in order to be covered under Northwind Health Plus.\\n\\nRemember that Northwind Health Plus does not cover services that are not medically necessary or services that are provided for the convenience of the patient.\\n\\nBe aware that Northwind Health Plus does not cover services that are not ordered by the patient's attending physician or services that are provided by an unlicensed or unaccredited facility.\\n\\nBy being aware of these tips, you can ensure that you are receiving the coverage that you need to get the skilled nursing facility services that you require.\\n\\nSpinal and Other Manipulations COVERED SERVICES: Spinal and Other Manipulations\\n\\nThe Northwind Health Plus Plan covers spinal and other manipulations. Spinal manipulation is a form of manual therapy that is used to treat musculoskeletal conditions. It is often used to treat back pain, neck pain, and headaches. Other manipulations may be used to treat conditions such as shoulder pain, hip pain, and knee pain.\\n\\nSpinal manipulations can be performed by a variety of healthcare providers, including physical therapists, chiropractors, and osteopaths. These manipulations involve applying manual force to joints of the spine, hips, and other areas of the body. The goal is to reduce pain and improve mobility.\")]}"
      ]
     },
     "execution_count": 109,
     "metadata": {},
     "output_type": "execute_result"
    }
   ],
   "source": [
    "agent_result"
   ]
  },
  {
   "cell_type": "code",
   "execution_count": 111,
   "metadata": {},
   "outputs": [
    {
     "name": "stdout",
     "output_type": "stream",
     "text": [
      "Right To And Payment Of Benefits OTHER INFORMATION ABOUT THIS PLAN: Right To And Payment Of Benefits\n",
      "\n",
      "Under the Northwind Health Plus plan, members are entitled to receive the benefits listed in the plan documents. These benefits can be received from any in-network provider, as long as all eligibility requirements are met. The plan pays for covered health care services and supplies, including preventive care services, at the rates specified in the plan documents.\n",
      "\n",
      "The plan pays for covered services only after the member has met their annual deductible. The plan pays for covered services after the member has met the annual deductible, up to the maximum out-of-pocket limit. The maximum out-of-pocket limit will be specified in the plan documents. For covered services, Northwind Health Plus pays either a percentage of the cost or a fixed dollar amount, whichever is less.\n",
      "\n",
      "Northwind Health Plus also pays for services that are not listed in the plan documents, if the health care provider determines that such services are medically necessary. This includes services that are not covered under the plan, such as experimental treatments and services for cosmetic purposes.\n",
      "\n",
      "Northwind Health Plus also pays for emergency services, both in-network and out-of- network. To be eligible for coverage, the emergency must meet certain criteria, as specified in the plan documents. If the emergency services do not meet the criteria, the member may be responsible for the full cost of the services.\n",
      "\n",
      "In addition, Northwind Health Plus may pay for services that are not covered under the plan, if the health care provider determines that such services are medically necessary. The plan will pay for these services at the rates specified in the plan documents.\n",
      "\n",
      "It is important to note that all payments are subject to the terms and conditions of the plan, including any applicable copayments, coinsurance, and deductible amounts. Members should always check with their health care provider to determine if a service is covered under the plan and the amount that will be paid for the service.\n",
      "\n",
      "It is also important to note that Northwind Health Plus does not pay for any services that are not medically necessary. Any services that are deemed to be for cosmetic purposes, experimental treatments, or not medically necessary will not be covered under the plan.\n",
      "\n",
      "Members should also keep in mind that the plan may not cover certain services if the member has not met certain requirements, such as obtaining a referral from a primary care physician or pre-authorization from Northwind Health Plus.\n",
      "\n",
      "Finally, Northwind Health Plus may require pre-certification or pre-authorization for certain services. It is the responsibility of the member to ensure that pre-certification or pre-authorization is obtained prior to receiving services. Failure to obtain pre-certification or pre-authorization may result in the member being responsible for the full cost of the services.\n",
      "\n",
      "In summary, Northwind Health Plus provides comprehensive coverage for medical, vision, and dental services, as well as prescription drug coverage, mental health and substance abuse coverage, and coverage for preventive care services. The plan pays for covered services after the member has met the annual deductible, up to the maximum out-of-pocket limit. The plan may also pay for services that are not listed in the plan documents, if the health care provider determines that such services are medically necessary. It is important to note that all payments are subject to the terms and conditions of the plan, and that\n",
      "\n",
      "members should always check with their health care provider to determine if a service is covered under the plan and the amount that will be paid for the service.\n",
      "\n",
      "Venue OTHER INFORMATION ABOUT THIS PLAN\n",
      "\n",
      "Venue\n",
      "\n",
      "Right To And Payment Of Benefits OTHER INFORMATION ABOUT THIS PLAN: Right To And Payment Of Benefits\n",
      "\n",
      "Under the Northwind Health Plus plan, members are entitled to receive the benefits listed in the plan documents. These benefits can be received from any in-network provider, as long as all eligibility requirements are met. The plan pays for covered health care services and supplies, including preventive care services, at the rates specified in the plan documents.\n",
      "\n",
      "The plan pays for covered services only after the member has met their annual deductible. The plan pays for covered services after the member has met the annual deductible, up to the maximum out-of-pocket limit. The maximum out-of-pocket limit will be specified in the plan documents. For covered services, Northwind Health Plus pays either a percentage of the cost or a fixed dollar amount, whichever is less.\n",
      "\n",
      "Northwind Health Plus also pays for services that are not listed in the plan documents, if the health care provider determines that such services are medically necessary. This includes services that are not covered under the plan, such as experimental treatments and services for cosmetic purposes.\n",
      "\n",
      "Northwind Health Plus also pays for emergency services, both in-network and out-of- network. To be eligible for coverage, the emergency must meet certain criteria, as specified in the plan documents. If the emergency services do not meet the criteria, the member may be responsible for the full cost of the services.\n",
      "\n",
      "In addition, Northwind Health Plus may pay for services that are not covered under the plan, if the health care provider determines that such services are medically necessary. The plan will pay for these services at the rates specified in the plan documents.\n",
      "\n",
      "It is important to note that all payments are subject to the terms and conditions of the plan, including any applicable copayments, coinsurance, and deductible amounts. Members should always check with their health care provider to determine if a service is covered under the plan and the amount that will be paid for the service.\n",
      "\n",
      "It is also important to note that Northwind Health Plus does not pay for any services that are not medically necessary. Any services that are deemed to be for cosmetic purposes, experimental treatments, or not medically necessary will not be covered under the plan.\n",
      "\n",
      "Members should also keep in mind that the plan may not cover certain services if the member has not met certain requirements, such as obtaining a referral from a primary care physician or pre-authorization from Northwind Health Plus.\n",
      "\n",
      "Finally, Northwind Health Plus may require pre-certification or pre-authorization for certain services. It is the responsibility of the member to ensure that pre-certification or pre-authorization is obtained prior to receiving services. Failure to obtain pre-certification or pre-authorization may result in the member being responsible for the full cost of the services.\n",
      "\n",
      "In summary, Northwind Health Plus provides comprehensive coverage for medical, vision, and dental services, as well as prescription drug coverage, mental health and substance abuse coverage, and coverage for preventive care services. The plan pays for covered services after the member has met the annual deductible, up to the maximum out-of-pocket limit. The plan may also pay for services that are not listed in the plan documents, if the health care provider determines that such services are medically necessary. It is important to note that all payments are subject to the terms and conditions of the plan, and that\n",
      "\n",
      "members should always check with their health care provider to determine if a service is covered under the plan and the amount that will be paid for the service.\n",
      "\n",
      "Venue OTHER INFORMATION ABOUT THIS PLAN\n",
      "\n",
      "Venue\n",
      "\n",
      "Northwind Health Plus plan. Finally, you should ask your doctor or health care provider about any co-pays or coinsurance that may apply to the services.\n",
      "\n",
      "Skilled Nursing Facility Services Skilled Nursing Facility Services\n",
      "\n",
      "Northwind Health Plus provides comprehensive coverage for skilled nursing facility services. This coverage includes a wide range of services such as nursing care, physical therapy, occupational therapy, and speech-language pathology services. These services are generally provided on an inpatient basis in a skilled nursing facility or hospital setting.\n",
      "\n",
      "This plan also covers services provided in a Medicare-certified skilled nursing facility, as well as services provided in a non-Medicare-certified facility. For those enrolled in the plan, services provided in a non-Medicare-certified facility will be covered up to the same coverage limits as those provided in a Medicare-certified facility.\n",
      "\n",
      "Skilled nursing facility services are generally provided on an inpatient basis and are generally provided under the supervision of a physician. These services can include nursing care, physical therapy, occupational therapy, and speech-language pathology services.\n",
      "\n",
      "In order to be eligible for coverage under Northwind Health Plus, the services must be medically necessary and must be ordered by the patient's attending physician. The services must also be provided by a facility that is licensed and accredited by the appropriate state or local government agency and must meet all applicable state and federal regulations.\n",
      "\n",
      "In addition, Northwind Health Plus does not cover services that are not medically necessary or services that are provided for the convenience of the patient. Furthermore, Northwind Health Plus does not cover services that are not ordered by the patient's attending physician or services that are provided by an unlicensed or unaccredited facility.\n",
      "\n",
      "It is important to note that the coverage limits for skilled nursing facility services may vary by state. Therefore, it is important to check with Northwind Health Plus for coverage limits in your state.\n",
      "\n",
      "Tips for Employees:\n",
      "\n",
      "When selecting a skilled nursing facility, it is important to ensure that the facility is licensed and accredited by the appropriate state or local government agency and that it meets all applicable state and federal regulations.\n",
      "\n",
      "Be sure to check with Northwind Health Plus for coverage limits in your state so you are aware of the maximum coverage available.\n",
      "\n",
      "Make sure that any services provided are medically necessary and ordered by your attending physician in order to be covered under Northwind Health Plus.\n",
      "\n",
      "Remember that Northwind Health Plus does not cover services that are not medically necessary or services that are provided for the convenience of the patient.\n",
      "\n",
      "Be aware that Northwind Health Plus does not cover services that are not ordered by the patient's attending physician or services that are provided by an unlicensed or unaccredited facility.\n",
      "\n",
      "By being aware of these tips, you can ensure that you are receiving the coverage that you need to get the skilled nursing facility services that you require.\n",
      "\n",
      "Spinal and Other Manipulations COVERED SERVICES: Spinal and Other Manipulations\n",
      "\n",
      "The Northwind Health Plus Plan covers spinal and other manipulations. Spinal manipulation is a form of manual therapy that is used to treat musculoskeletal conditions. It is often used to treat back pain, neck pain, and headaches. Other manipulations may be used to treat conditions such as shoulder pain, hip pain, and knee pain.\n",
      "\n",
      "Spinal manipulations can be performed by a variety of healthcare providers, including physical therapists, chiropractors, and osteopaths. These manipulations involve applying manual force to joints of the spine, hips, and other areas of the body. The goal is to reduce pain and improve mobility.\n"
     ]
    }
   ],
   "source": [
    "agent_action = agent_result[\"intermediate_steps\"]\n",
    "a, b = agent_action[0]\n",
    "print(b)"
   ]
  },
  {
   "cell_type": "code",
   "execution_count": 249,
   "metadata": {},
   "outputs": [],
   "source": [
    "retriever = vector_store.as_retriever(search_kwargs={\"k\": 3})\n",
    "llm = ChatGoogleGenerativeAI(model=\"gemini-pro\")\n",
    "\n",
    "tool = create_retriever_tool(\n",
    "    retriever,\n",
    "    \"Search_Northwind_Health_Plus_Benefits_Details\",\n",
    "    \"Search Northwind Health Plus Benefits and Details and return answer to employee question\",\n",
    ")\n",
    "tools = [tool]\n",
    "\n",
    "template = \"\"\"You are a system assistant who helps the company employees with their questions. Be brief in your answers.\n",
    "Use the following pieces of context to answer the question at the end.\n",
    "If you don't know the answer, just say that you don't know, don't try to make up an answer.\n",
    "Use three sentences maximum and keep the answer as concise as possible.\n",
    "Always say \"thanks for asking!\" at the end of the answer.\n",
    "\n",
    "{context}\n",
    "\n",
    "{format_instructions}\n",
    "\n",
    "Answer the following questions as best you can. You have access to the following tools:\n",
    "\n",
    "{tools}\n",
    "\n",
    "Use the following format:\n",
    "\n",
    "Question: the input question you must answer\n",
    "Thought: you should always think about what to do\n",
    "Action: the action to take, should be one of [{tool_names}]\n",
    "Action Input: the input to the action\n",
    "Observation: the result of the action\n",
    "... (this Thought/Action/Action Input/Observation can repeat N times)\n",
    "Thought: I now know the final answer\n",
    "Final Answer: the final answer to the original input question\n",
    "\n",
    "Begin!\n",
    "\n",
    "Question: {input}\n",
    "Thought:{agent_scratchpad}\"\"\"\n",
    "\n",
    "custom_rag_prompt = PromptTemplate(\n",
    "    template=template,\n",
    "    input_variables=[\"input\"],\n",
    "    partial_variables={\"format_instructions\": parser.get_format_instructions(), \"tools\": tools, \"tool_names\": \", \".join([t.name for t in tools])}\n",
    ")\n",
    "\n",
    "rag_chain = (\n",
    "    {\"context\": retriever | format_docs, \"input\": RunnablePassthrough(), \"agent_scratchpad\": RunnablePassthrough()}\n",
    "    | custom_rag_prompt\n",
    "    | llm\n",
    "    | parser\n",
    ")\n",
    "\n",
    "# rag_chain.invoke(\"what are all plans covered ?\")\n"
   ]
  },
  {
   "cell_type": "code",
   "execution_count": 251,
   "metadata": {},
   "outputs": [
    {
     "data": {
      "text/plain": [
       "{'answer': 'I am sorry, I cannot answer your question as the provided text does not contain information about hearing exams.',\n",
       " 'thoughts': []}"
      ]
     },
     "execution_count": 251,
     "metadata": {},
     "output_type": "execute_result"
    }
   ],
   "source": [
    "rag_chain.invoke(\"does the Northwind Health Plus covers hearning exams?\")"
   ]
  },
  {
   "cell_type": "code",
   "execution_count": 232,
   "metadata": {},
   "outputs": [
    {
     "name": "stdout",
     "output_type": "stream",
     "text": [
      "input_variables=['agent_scratchpad', 'context', 'input', 'tool_names', 'tools'] partial_variables={'format_instructions': 'The output should be formatted as a JSON instance that conforms to the JSON schema below.\\n\\nAs an example, for the schema {\"properties\": {\"foo\": {\"title\": \"Foo\", \"description\": \"a list of strings\", \"type\": \"array\", \"items\": {\"type\": \"string\"}}}, \"required\": [\"foo\"]}\\nthe object {\"foo\": [\"bar\", \"baz\"]} is a well-formatted instance of the schema. The object {\"properties\": {\"foo\": [\"bar\", \"baz\"]}} is not well-formatted.\\n\\nHere is the output schema:\\n```\\n{\"properties\": {\"answer\": {\"title\": \"Answer\", \"description\": \"the answer to the question, add a source or document name reference to the end of each sentence. e.g. Apple is a fruit [reference1.pdf][reference2.pdf]. If no source available, put the answer as I don\\'t know.\", \"type\": \"string\"}, \"thoughts\": {\"title\": \"Thoughts\", \"description\": \"brief thoughts on how you came up with the answer, e.g. what sources you used, what you thought about, etc.\", \"type\": \"string\"}}, \"required\": [\"answer\", \"thoughts\"]}\\n```'} template='You are a system assistant who helps the company employees with their questions. Be brief in your answers.\\nUse the following pieces of context to answer the question at the end.\\nIf you don\\'t know the answer, just say that you don\\'t know, don\\'t try to make up an answer.\\nUse three sentences maximum and keep the answer as concise as possible.\\nAlways say \"thanks for asking!\" at the end of the answer.\\n\\n{context}\\n\\n{format_instructions}\\n\\nAnswer the following questions as best you can. You have access to the following tools:\\n\\n{tools}\\n\\nUse the following format:\\n\\nQuestion: the input question you must answer\\nThought: you should always think about what to do\\nAction: the action to take, should be one of [{tool_names}]\\nAction Input: the input to the action\\nObservation: the result of the action\\n... (this Thought/Action/Action Input/Observation can repeat N times)\\nThought: I now know the final answer\\nFinal Answer: the final answer to the original input question\\n\\nBegin!\\n\\nQuestion: {input}\\nThought:{agent_scratchpad}'\n"
     ]
    }
   ],
   "source": [
    "print(custom_rag_prompt)"
   ]
  },
  {
   "cell_type": "code",
   "execution_count": 233,
   "metadata": {},
   "outputs": [],
   "source": [
    "# Construct the ReAct agent\n",
    "agent = create_react_agent(llm, tools, custom_rag_prompt)"
   ]
  },
  {
   "cell_type": "code",
   "execution_count": 234,
   "metadata": {},
   "outputs": [],
   "source": [
    "agent_executor = AgentExecutor(agent=agent, tools=tools, verbose=True)"
   ]
  },
  {
   "cell_type": "code",
   "execution_count": 237,
   "metadata": {},
   "outputs": [
    {
     "name": "stdout",
     "output_type": "stream",
     "text": [
      "\n",
      "\n",
      "\u001b[1m> Entering new AgentExecutor chain...\u001b[0m\n"
     ]
    },
    {
     "ename": "KeyError",
     "evalue": "\"Input to PromptTemplate is missing variables {'context'}.  Expected: ['agent_scratchpad', 'context', 'input'] Received: ['input', 'intermediate_steps', 'agent_scratchpad']\"",
     "output_type": "error",
     "traceback": [
      "\u001b[1;31m---------------------------------------------------------------------------\u001b[0m",
      "\u001b[1;31mKeyError\u001b[0m                                  Traceback (most recent call last)",
      "Cell \u001b[1;32mIn[237], line 1\u001b[0m\n\u001b[1;32m----> 1\u001b[0m \u001b[43magent_executor\u001b[49m\u001b[38;5;241;43m.\u001b[39;49m\u001b[43minvoke\u001b[49m\u001b[43m(\u001b[49m\u001b[43m{\u001b[49m\u001b[38;5;124;43m\"\u001b[39;49m\u001b[38;5;124;43minput\u001b[39;49m\u001b[38;5;124;43m\"\u001b[39;49m\u001b[43m:\u001b[49m\u001b[43m \u001b[49m\u001b[38;5;124;43m\"\u001b[39;49m\u001b[38;5;124;43mwhat are all plans covered?\u001b[39;49m\u001b[38;5;124;43m\"\u001b[39;49m\u001b[43m}\u001b[49m\u001b[43m)\u001b[49m\n",
      "File \u001b[1;32md:\\MusaddiqueHussainLabs\\omniqhub\\.conda\\Lib\\site-packages\\langchain\\chains\\base.py:168\u001b[0m, in \u001b[0;36mChain.invoke\u001b[1;34m(self, input, config, **kwargs)\u001b[0m\n\u001b[0;32m    166\u001b[0m \u001b[38;5;28;01mexcept\u001b[39;00m \u001b[38;5;167;01mBaseException\u001b[39;00m \u001b[38;5;28;01mas\u001b[39;00m e:\n\u001b[0;32m    167\u001b[0m     run_manager\u001b[38;5;241m.\u001b[39mon_chain_error(e)\n\u001b[1;32m--> 168\u001b[0m     \u001b[38;5;28;01mraise\u001b[39;00m e\n\u001b[0;32m    169\u001b[0m run_manager\u001b[38;5;241m.\u001b[39mon_chain_end(outputs)\n\u001b[0;32m    171\u001b[0m \u001b[38;5;28;01mif\u001b[39;00m include_run_info:\n",
      "File \u001b[1;32md:\\MusaddiqueHussainLabs\\omniqhub\\.conda\\Lib\\site-packages\\langchain\\chains\\base.py:158\u001b[0m, in \u001b[0;36mChain.invoke\u001b[1;34m(self, input, config, **kwargs)\u001b[0m\n\u001b[0;32m    155\u001b[0m \u001b[38;5;28;01mtry\u001b[39;00m:\n\u001b[0;32m    156\u001b[0m     \u001b[38;5;28mself\u001b[39m\u001b[38;5;241m.\u001b[39m_validate_inputs(inputs)\n\u001b[0;32m    157\u001b[0m     outputs \u001b[38;5;241m=\u001b[39m (\n\u001b[1;32m--> 158\u001b[0m         \u001b[38;5;28;43mself\u001b[39;49m\u001b[38;5;241;43m.\u001b[39;49m\u001b[43m_call\u001b[49m\u001b[43m(\u001b[49m\u001b[43minputs\u001b[49m\u001b[43m,\u001b[49m\u001b[43m \u001b[49m\u001b[43mrun_manager\u001b[49m\u001b[38;5;241;43m=\u001b[39;49m\u001b[43mrun_manager\u001b[49m\u001b[43m)\u001b[49m\n\u001b[0;32m    159\u001b[0m         \u001b[38;5;28;01mif\u001b[39;00m new_arg_supported\n\u001b[0;32m    160\u001b[0m         \u001b[38;5;28;01melse\u001b[39;00m \u001b[38;5;28mself\u001b[39m\u001b[38;5;241m.\u001b[39m_call(inputs)\n\u001b[0;32m    161\u001b[0m     )\n\u001b[0;32m    163\u001b[0m     final_outputs: Dict[\u001b[38;5;28mstr\u001b[39m, Any] \u001b[38;5;241m=\u001b[39m \u001b[38;5;28mself\u001b[39m\u001b[38;5;241m.\u001b[39mprep_outputs(\n\u001b[0;32m    164\u001b[0m         inputs, outputs, return_only_outputs\n\u001b[0;32m    165\u001b[0m     )\n\u001b[0;32m    166\u001b[0m \u001b[38;5;28;01mexcept\u001b[39;00m \u001b[38;5;167;01mBaseException\u001b[39;00m \u001b[38;5;28;01mas\u001b[39;00m e:\n",
      "File \u001b[1;32md:\\MusaddiqueHussainLabs\\omniqhub\\.conda\\Lib\\site-packages\\langchain\\agents\\agent.py:1391\u001b[0m, in \u001b[0;36mAgentExecutor._call\u001b[1;34m(self, inputs, run_manager)\u001b[0m\n\u001b[0;32m   1389\u001b[0m \u001b[38;5;66;03m# We now enter the agent loop (until it returns something).\u001b[39;00m\n\u001b[0;32m   1390\u001b[0m \u001b[38;5;28;01mwhile\u001b[39;00m \u001b[38;5;28mself\u001b[39m\u001b[38;5;241m.\u001b[39m_should_continue(iterations, time_elapsed):\n\u001b[1;32m-> 1391\u001b[0m     next_step_output \u001b[38;5;241m=\u001b[39m \u001b[38;5;28;43mself\u001b[39;49m\u001b[38;5;241;43m.\u001b[39;49m\u001b[43m_take_next_step\u001b[49m\u001b[43m(\u001b[49m\n\u001b[0;32m   1392\u001b[0m \u001b[43m        \u001b[49m\u001b[43mname_to_tool_map\u001b[49m\u001b[43m,\u001b[49m\n\u001b[0;32m   1393\u001b[0m \u001b[43m        \u001b[49m\u001b[43mcolor_mapping\u001b[49m\u001b[43m,\u001b[49m\n\u001b[0;32m   1394\u001b[0m \u001b[43m        \u001b[49m\u001b[43minputs\u001b[49m\u001b[43m,\u001b[49m\n\u001b[0;32m   1395\u001b[0m \u001b[43m        \u001b[49m\u001b[43mintermediate_steps\u001b[49m\u001b[43m,\u001b[49m\n\u001b[0;32m   1396\u001b[0m \u001b[43m        \u001b[49m\u001b[43mrun_manager\u001b[49m\u001b[38;5;241;43m=\u001b[39;49m\u001b[43mrun_manager\u001b[49m\u001b[43m,\u001b[49m\n\u001b[0;32m   1397\u001b[0m \u001b[43m    \u001b[49m\u001b[43m)\u001b[49m\n\u001b[0;32m   1398\u001b[0m     \u001b[38;5;28;01mif\u001b[39;00m \u001b[38;5;28misinstance\u001b[39m(next_step_output, AgentFinish):\n\u001b[0;32m   1399\u001b[0m         \u001b[38;5;28;01mreturn\u001b[39;00m \u001b[38;5;28mself\u001b[39m\u001b[38;5;241m.\u001b[39m_return(\n\u001b[0;32m   1400\u001b[0m             next_step_output, intermediate_steps, run_manager\u001b[38;5;241m=\u001b[39mrun_manager\n\u001b[0;32m   1401\u001b[0m         )\n",
      "File \u001b[1;32md:\\MusaddiqueHussainLabs\\omniqhub\\.conda\\Lib\\site-packages\\langchain\\agents\\agent.py:1097\u001b[0m, in \u001b[0;36mAgentExecutor._take_next_step\u001b[1;34m(self, name_to_tool_map, color_mapping, inputs, intermediate_steps, run_manager)\u001b[0m\n\u001b[0;32m   1088\u001b[0m \u001b[38;5;28;01mdef\u001b[39;00m \u001b[38;5;21m_take_next_step\u001b[39m(\n\u001b[0;32m   1089\u001b[0m     \u001b[38;5;28mself\u001b[39m,\n\u001b[0;32m   1090\u001b[0m     name_to_tool_map: Dict[\u001b[38;5;28mstr\u001b[39m, BaseTool],\n\u001b[1;32m   (...)\u001b[0m\n\u001b[0;32m   1094\u001b[0m     run_manager: Optional[CallbackManagerForChainRun] \u001b[38;5;241m=\u001b[39m \u001b[38;5;28;01mNone\u001b[39;00m,\n\u001b[0;32m   1095\u001b[0m ) \u001b[38;5;241m-\u001b[39m\u001b[38;5;241m>\u001b[39m Union[AgentFinish, List[Tuple[AgentAction, \u001b[38;5;28mstr\u001b[39m]]]:\n\u001b[0;32m   1096\u001b[0m     \u001b[38;5;28;01mreturn\u001b[39;00m \u001b[38;5;28mself\u001b[39m\u001b[38;5;241m.\u001b[39m_consume_next_step(\n\u001b[1;32m-> 1097\u001b[0m         \u001b[43m[\u001b[49m\n\u001b[0;32m   1098\u001b[0m \u001b[43m            \u001b[49m\u001b[43ma\u001b[49m\n\u001b[0;32m   1099\u001b[0m \u001b[43m            \u001b[49m\u001b[38;5;28;43;01mfor\u001b[39;49;00m\u001b[43m \u001b[49m\u001b[43ma\u001b[49m\u001b[43m \u001b[49m\u001b[38;5;129;43;01min\u001b[39;49;00m\u001b[43m \u001b[49m\u001b[38;5;28;43mself\u001b[39;49m\u001b[38;5;241;43m.\u001b[39;49m\u001b[43m_iter_next_step\u001b[49m\u001b[43m(\u001b[49m\n\u001b[0;32m   1100\u001b[0m \u001b[43m                \u001b[49m\u001b[43mname_to_tool_map\u001b[49m\u001b[43m,\u001b[49m\n\u001b[0;32m   1101\u001b[0m \u001b[43m                \u001b[49m\u001b[43mcolor_mapping\u001b[49m\u001b[43m,\u001b[49m\n\u001b[0;32m   1102\u001b[0m \u001b[43m                \u001b[49m\u001b[43minputs\u001b[49m\u001b[43m,\u001b[49m\n\u001b[0;32m   1103\u001b[0m \u001b[43m                \u001b[49m\u001b[43mintermediate_steps\u001b[49m\u001b[43m,\u001b[49m\n\u001b[0;32m   1104\u001b[0m \u001b[43m                \u001b[49m\u001b[43mrun_manager\u001b[49m\u001b[43m,\u001b[49m\n\u001b[0;32m   1105\u001b[0m \u001b[43m            \u001b[49m\u001b[43m)\u001b[49m\n\u001b[0;32m   1106\u001b[0m \u001b[43m        \u001b[49m\u001b[43m]\u001b[49m\n\u001b[0;32m   1107\u001b[0m     )\n",
      "File \u001b[1;32md:\\MusaddiqueHussainLabs\\omniqhub\\.conda\\Lib\\site-packages\\langchain\\agents\\agent.py:1097\u001b[0m, in \u001b[0;36m<listcomp>\u001b[1;34m(.0)\u001b[0m\n\u001b[0;32m   1088\u001b[0m \u001b[38;5;28;01mdef\u001b[39;00m \u001b[38;5;21m_take_next_step\u001b[39m(\n\u001b[0;32m   1089\u001b[0m     \u001b[38;5;28mself\u001b[39m,\n\u001b[0;32m   1090\u001b[0m     name_to_tool_map: Dict[\u001b[38;5;28mstr\u001b[39m, BaseTool],\n\u001b[1;32m   (...)\u001b[0m\n\u001b[0;32m   1094\u001b[0m     run_manager: Optional[CallbackManagerForChainRun] \u001b[38;5;241m=\u001b[39m \u001b[38;5;28;01mNone\u001b[39;00m,\n\u001b[0;32m   1095\u001b[0m ) \u001b[38;5;241m-\u001b[39m\u001b[38;5;241m>\u001b[39m Union[AgentFinish, List[Tuple[AgentAction, \u001b[38;5;28mstr\u001b[39m]]]:\n\u001b[0;32m   1096\u001b[0m     \u001b[38;5;28;01mreturn\u001b[39;00m \u001b[38;5;28mself\u001b[39m\u001b[38;5;241m.\u001b[39m_consume_next_step(\n\u001b[1;32m-> 1097\u001b[0m         \u001b[43m[\u001b[49m\n\u001b[0;32m   1098\u001b[0m \u001b[43m            \u001b[49m\u001b[43ma\u001b[49m\n\u001b[0;32m   1099\u001b[0m \u001b[43m            \u001b[49m\u001b[38;5;28;43;01mfor\u001b[39;49;00m\u001b[43m \u001b[49m\u001b[43ma\u001b[49m\u001b[43m \u001b[49m\u001b[38;5;129;43;01min\u001b[39;49;00m\u001b[43m \u001b[49m\u001b[38;5;28;43mself\u001b[39;49m\u001b[38;5;241;43m.\u001b[39;49m\u001b[43m_iter_next_step\u001b[49m\u001b[43m(\u001b[49m\n\u001b[0;32m   1100\u001b[0m \u001b[43m                \u001b[49m\u001b[43mname_to_tool_map\u001b[49m\u001b[43m,\u001b[49m\n\u001b[0;32m   1101\u001b[0m \u001b[43m                \u001b[49m\u001b[43mcolor_mapping\u001b[49m\u001b[43m,\u001b[49m\n\u001b[0;32m   1102\u001b[0m \u001b[43m                \u001b[49m\u001b[43minputs\u001b[49m\u001b[43m,\u001b[49m\n\u001b[0;32m   1103\u001b[0m \u001b[43m                \u001b[49m\u001b[43mintermediate_steps\u001b[49m\u001b[43m,\u001b[49m\n\u001b[0;32m   1104\u001b[0m \u001b[43m                \u001b[49m\u001b[43mrun_manager\u001b[49m\u001b[43m,\u001b[49m\n\u001b[0;32m   1105\u001b[0m \u001b[43m            \u001b[49m\u001b[43m)\u001b[49m\n\u001b[0;32m   1106\u001b[0m \u001b[43m        \u001b[49m\u001b[43m]\u001b[49m\n\u001b[0;32m   1107\u001b[0m     )\n",
      "File \u001b[1;32md:\\MusaddiqueHussainLabs\\omniqhub\\.conda\\Lib\\site-packages\\langchain\\agents\\agent.py:1125\u001b[0m, in \u001b[0;36mAgentExecutor._iter_next_step\u001b[1;34m(self, name_to_tool_map, color_mapping, inputs, intermediate_steps, run_manager)\u001b[0m\n\u001b[0;32m   1122\u001b[0m     intermediate_steps \u001b[38;5;241m=\u001b[39m \u001b[38;5;28mself\u001b[39m\u001b[38;5;241m.\u001b[39m_prepare_intermediate_steps(intermediate_steps)\n\u001b[0;32m   1124\u001b[0m     \u001b[38;5;66;03m# Call the LLM to see what to do.\u001b[39;00m\n\u001b[1;32m-> 1125\u001b[0m     output \u001b[38;5;241m=\u001b[39m \u001b[38;5;28;43mself\u001b[39;49m\u001b[38;5;241;43m.\u001b[39;49m\u001b[43magent\u001b[49m\u001b[38;5;241;43m.\u001b[39;49m\u001b[43mplan\u001b[49m\u001b[43m(\u001b[49m\n\u001b[0;32m   1126\u001b[0m \u001b[43m        \u001b[49m\u001b[43mintermediate_steps\u001b[49m\u001b[43m,\u001b[49m\n\u001b[0;32m   1127\u001b[0m \u001b[43m        \u001b[49m\u001b[43mcallbacks\u001b[49m\u001b[38;5;241;43m=\u001b[39;49m\u001b[43mrun_manager\u001b[49m\u001b[38;5;241;43m.\u001b[39;49m\u001b[43mget_child\u001b[49m\u001b[43m(\u001b[49m\u001b[43m)\u001b[49m\u001b[43m \u001b[49m\u001b[38;5;28;43;01mif\u001b[39;49;00m\u001b[43m \u001b[49m\u001b[43mrun_manager\u001b[49m\u001b[43m \u001b[49m\u001b[38;5;28;43;01melse\u001b[39;49;00m\u001b[43m \u001b[49m\u001b[38;5;28;43;01mNone\u001b[39;49;00m\u001b[43m,\u001b[49m\n\u001b[0;32m   1128\u001b[0m \u001b[43m        \u001b[49m\u001b[38;5;241;43m*\u001b[39;49m\u001b[38;5;241;43m*\u001b[39;49m\u001b[43minputs\u001b[49m\u001b[43m,\u001b[49m\n\u001b[0;32m   1129\u001b[0m \u001b[43m    \u001b[49m\u001b[43m)\u001b[49m\n\u001b[0;32m   1130\u001b[0m \u001b[38;5;28;01mexcept\u001b[39;00m OutputParserException \u001b[38;5;28;01mas\u001b[39;00m e:\n\u001b[0;32m   1131\u001b[0m     \u001b[38;5;28;01mif\u001b[39;00m \u001b[38;5;28misinstance\u001b[39m(\u001b[38;5;28mself\u001b[39m\u001b[38;5;241m.\u001b[39mhandle_parsing_errors, \u001b[38;5;28mbool\u001b[39m):\n",
      "File \u001b[1;32md:\\MusaddiqueHussainLabs\\omniqhub\\.conda\\Lib\\site-packages\\langchain\\agents\\agent.py:387\u001b[0m, in \u001b[0;36mRunnableAgent.plan\u001b[1;34m(self, intermediate_steps, callbacks, **kwargs)\u001b[0m\n\u001b[0;32m    381\u001b[0m \u001b[38;5;66;03m# Use streaming to make sure that the underlying LLM is invoked in a streaming\u001b[39;00m\n\u001b[0;32m    382\u001b[0m \u001b[38;5;66;03m# fashion to make it possible to get access to the individual LLM tokens\u001b[39;00m\n\u001b[0;32m    383\u001b[0m \u001b[38;5;66;03m# when using stream_log with the Agent Executor.\u001b[39;00m\n\u001b[0;32m    384\u001b[0m \u001b[38;5;66;03m# Because the response from the plan is not a generator, we need to\u001b[39;00m\n\u001b[0;32m    385\u001b[0m \u001b[38;5;66;03m# accumulate the output into final output and return that.\u001b[39;00m\n\u001b[0;32m    386\u001b[0m final_output: Any \u001b[38;5;241m=\u001b[39m \u001b[38;5;28;01mNone\u001b[39;00m\n\u001b[1;32m--> 387\u001b[0m \u001b[43m\u001b[49m\u001b[38;5;28;43;01mfor\u001b[39;49;00m\u001b[43m \u001b[49m\u001b[43mchunk\u001b[49m\u001b[43m \u001b[49m\u001b[38;5;129;43;01min\u001b[39;49;00m\u001b[43m \u001b[49m\u001b[38;5;28;43mself\u001b[39;49m\u001b[38;5;241;43m.\u001b[39;49m\u001b[43mrunnable\u001b[49m\u001b[38;5;241;43m.\u001b[39;49m\u001b[43mstream\u001b[49m\u001b[43m(\u001b[49m\u001b[43minputs\u001b[49m\u001b[43m,\u001b[49m\u001b[43m \u001b[49m\u001b[43mconfig\u001b[49m\u001b[38;5;241;43m=\u001b[39;49m\u001b[43m{\u001b[49m\u001b[38;5;124;43m\"\u001b[39;49m\u001b[38;5;124;43mcallbacks\u001b[39;49m\u001b[38;5;124;43m\"\u001b[39;49m\u001b[43m:\u001b[49m\u001b[43m \u001b[49m\u001b[43mcallbacks\u001b[49m\u001b[43m}\u001b[49m\u001b[43m)\u001b[49m\u001b[43m:\u001b[49m\n\u001b[0;32m    388\u001b[0m \u001b[43m    \u001b[49m\u001b[38;5;28;43;01mif\u001b[39;49;00m\u001b[43m \u001b[49m\u001b[43mfinal_output\u001b[49m\u001b[43m \u001b[49m\u001b[38;5;129;43;01mis\u001b[39;49;00m\u001b[43m \u001b[49m\u001b[38;5;28;43;01mNone\u001b[39;49;00m\u001b[43m:\u001b[49m\n\u001b[0;32m    389\u001b[0m \u001b[43m        \u001b[49m\u001b[43mfinal_output\u001b[49m\u001b[43m \u001b[49m\u001b[38;5;241;43m=\u001b[39;49m\u001b[43m \u001b[49m\u001b[43mchunk\u001b[49m\n",
      "File \u001b[1;32md:\\MusaddiqueHussainLabs\\omniqhub\\.conda\\Lib\\site-packages\\langchain_core\\runnables\\base.py:2427\u001b[0m, in \u001b[0;36mRunnableSequence.stream\u001b[1;34m(self, input, config, **kwargs)\u001b[0m\n\u001b[0;32m   2421\u001b[0m \u001b[38;5;28;01mdef\u001b[39;00m \u001b[38;5;21mstream\u001b[39m(\n\u001b[0;32m   2422\u001b[0m     \u001b[38;5;28mself\u001b[39m,\n\u001b[0;32m   2423\u001b[0m     \u001b[38;5;28minput\u001b[39m: Input,\n\u001b[0;32m   2424\u001b[0m     config: Optional[RunnableConfig] \u001b[38;5;241m=\u001b[39m \u001b[38;5;28;01mNone\u001b[39;00m,\n\u001b[0;32m   2425\u001b[0m     \u001b[38;5;241m*\u001b[39m\u001b[38;5;241m*\u001b[39mkwargs: Optional[Any],\n\u001b[0;32m   2426\u001b[0m ) \u001b[38;5;241m-\u001b[39m\u001b[38;5;241m>\u001b[39m Iterator[Output]:\n\u001b[1;32m-> 2427\u001b[0m     \u001b[38;5;28;01myield from\u001b[39;00m \u001b[38;5;28mself\u001b[39m\u001b[38;5;241m.\u001b[39mtransform(\u001b[38;5;28miter\u001b[39m([\u001b[38;5;28minput\u001b[39m]), config, \u001b[38;5;241m*\u001b[39m\u001b[38;5;241m*\u001b[39mkwargs)\n",
      "File \u001b[1;32md:\\MusaddiqueHussainLabs\\omniqhub\\.conda\\Lib\\site-packages\\langchain_core\\runnables\\base.py:2414\u001b[0m, in \u001b[0;36mRunnableSequence.transform\u001b[1;34m(self, input, config, **kwargs)\u001b[0m\n\u001b[0;32m   2408\u001b[0m \u001b[38;5;28;01mdef\u001b[39;00m \u001b[38;5;21mtransform\u001b[39m(\n\u001b[0;32m   2409\u001b[0m     \u001b[38;5;28mself\u001b[39m,\n\u001b[0;32m   2410\u001b[0m     \u001b[38;5;28minput\u001b[39m: Iterator[Input],\n\u001b[0;32m   2411\u001b[0m     config: Optional[RunnableConfig] \u001b[38;5;241m=\u001b[39m \u001b[38;5;28;01mNone\u001b[39;00m,\n\u001b[0;32m   2412\u001b[0m     \u001b[38;5;241m*\u001b[39m\u001b[38;5;241m*\u001b[39mkwargs: Optional[Any],\n\u001b[0;32m   2413\u001b[0m ) \u001b[38;5;241m-\u001b[39m\u001b[38;5;241m>\u001b[39m Iterator[Output]:\n\u001b[1;32m-> 2414\u001b[0m     \u001b[38;5;28;01myield from\u001b[39;00m \u001b[38;5;28mself\u001b[39m\u001b[38;5;241m.\u001b[39m_transform_stream_with_config(\n\u001b[0;32m   2415\u001b[0m         \u001b[38;5;28minput\u001b[39m,\n\u001b[0;32m   2416\u001b[0m         \u001b[38;5;28mself\u001b[39m\u001b[38;5;241m.\u001b[39m_transform,\n\u001b[0;32m   2417\u001b[0m         patch_config(config, run_name\u001b[38;5;241m=\u001b[39m(config \u001b[38;5;129;01mor\u001b[39;00m {})\u001b[38;5;241m.\u001b[39mget(\u001b[38;5;124m\"\u001b[39m\u001b[38;5;124mrun_name\u001b[39m\u001b[38;5;124m\"\u001b[39m) \u001b[38;5;129;01mor\u001b[39;00m \u001b[38;5;28mself\u001b[39m\u001b[38;5;241m.\u001b[39mname),\n\u001b[0;32m   2418\u001b[0m         \u001b[38;5;241m*\u001b[39m\u001b[38;5;241m*\u001b[39mkwargs,\n\u001b[0;32m   2419\u001b[0m     )\n",
      "File \u001b[1;32md:\\MusaddiqueHussainLabs\\omniqhub\\.conda\\Lib\\site-packages\\langchain_core\\runnables\\base.py:1494\u001b[0m, in \u001b[0;36mRunnable._transform_stream_with_config\u001b[1;34m(self, input, transformer, config, run_type, **kwargs)\u001b[0m\n\u001b[0;32m   1492\u001b[0m \u001b[38;5;28;01mtry\u001b[39;00m:\n\u001b[0;32m   1493\u001b[0m     \u001b[38;5;28;01mwhile\u001b[39;00m \u001b[38;5;28;01mTrue\u001b[39;00m:\n\u001b[1;32m-> 1494\u001b[0m         chunk: Output \u001b[38;5;241m=\u001b[39m context\u001b[38;5;241m.\u001b[39mrun(\u001b[38;5;28mnext\u001b[39m, iterator)  \u001b[38;5;66;03m# type: ignore\u001b[39;00m\n\u001b[0;32m   1495\u001b[0m         \u001b[38;5;28;01myield\u001b[39;00m chunk\n\u001b[0;32m   1496\u001b[0m         \u001b[38;5;28;01mif\u001b[39;00m final_output_supported:\n",
      "File \u001b[1;32md:\\MusaddiqueHussainLabs\\omniqhub\\.conda\\Lib\\site-packages\\langchain_core\\runnables\\base.py:2378\u001b[0m, in \u001b[0;36mRunnableSequence._transform\u001b[1;34m(self, input, run_manager, config)\u001b[0m\n\u001b[0;32m   2369\u001b[0m \u001b[38;5;28;01mfor\u001b[39;00m step \u001b[38;5;129;01min\u001b[39;00m steps:\n\u001b[0;32m   2370\u001b[0m     final_pipeline \u001b[38;5;241m=\u001b[39m step\u001b[38;5;241m.\u001b[39mtransform(\n\u001b[0;32m   2371\u001b[0m         final_pipeline,\n\u001b[0;32m   2372\u001b[0m         patch_config(\n\u001b[1;32m   (...)\u001b[0m\n\u001b[0;32m   2375\u001b[0m         ),\n\u001b[0;32m   2376\u001b[0m     )\n\u001b[1;32m-> 2378\u001b[0m \u001b[43m\u001b[49m\u001b[38;5;28;43;01mfor\u001b[39;49;00m\u001b[43m \u001b[49m\u001b[43moutput\u001b[49m\u001b[43m \u001b[49m\u001b[38;5;129;43;01min\u001b[39;49;00m\u001b[43m \u001b[49m\u001b[43mfinal_pipeline\u001b[49m\u001b[43m:\u001b[49m\n\u001b[0;32m   2379\u001b[0m \u001b[43m    \u001b[49m\u001b[38;5;28;43;01myield\u001b[39;49;00m\u001b[43m \u001b[49m\u001b[43moutput\u001b[49m\n",
      "File \u001b[1;32md:\\MusaddiqueHussainLabs\\omniqhub\\.conda\\Lib\\site-packages\\langchain_core\\runnables\\base.py:1032\u001b[0m, in \u001b[0;36mRunnable.transform\u001b[1;34m(self, input, config, **kwargs)\u001b[0m\n\u001b[0;32m   1029\u001b[0m final: Input\n\u001b[0;32m   1030\u001b[0m got_first_val \u001b[38;5;241m=\u001b[39m \u001b[38;5;28;01mFalse\u001b[39;00m\n\u001b[1;32m-> 1032\u001b[0m \u001b[43m\u001b[49m\u001b[38;5;28;43;01mfor\u001b[39;49;00m\u001b[43m \u001b[49m\u001b[43mchunk\u001b[49m\u001b[43m \u001b[49m\u001b[38;5;129;43;01min\u001b[39;49;00m\u001b[43m \u001b[49m\u001b[38;5;28;43minput\u001b[39;49m\u001b[43m:\u001b[49m\n\u001b[0;32m   1033\u001b[0m \u001b[43m    \u001b[49m\u001b[38;5;28;43;01mif\u001b[39;49;00m\u001b[43m \u001b[49m\u001b[38;5;129;43;01mnot\u001b[39;49;00m\u001b[43m \u001b[49m\u001b[43mgot_first_val\u001b[49m\u001b[43m:\u001b[49m\n\u001b[0;32m   1034\u001b[0m \u001b[43m        \u001b[49m\u001b[43mfinal\u001b[49m\u001b[43m \u001b[49m\u001b[38;5;241;43m=\u001b[39;49m\u001b[43m \u001b[49m\u001b[43mchunk\u001b[49m\n",
      "File \u001b[1;32md:\\MusaddiqueHussainLabs\\omniqhub\\.conda\\Lib\\site-packages\\langchain_core\\runnables\\base.py:4164\u001b[0m, in \u001b[0;36mRunnableBindingBase.transform\u001b[1;34m(self, input, config, **kwargs)\u001b[0m\n\u001b[0;32m   4158\u001b[0m \u001b[38;5;28;01mdef\u001b[39;00m \u001b[38;5;21mtransform\u001b[39m(\n\u001b[0;32m   4159\u001b[0m     \u001b[38;5;28mself\u001b[39m,\n\u001b[0;32m   4160\u001b[0m     \u001b[38;5;28minput\u001b[39m: Iterator[Input],\n\u001b[0;32m   4161\u001b[0m     config: Optional[RunnableConfig] \u001b[38;5;241m=\u001b[39m \u001b[38;5;28;01mNone\u001b[39;00m,\n\u001b[0;32m   4162\u001b[0m     \u001b[38;5;241m*\u001b[39m\u001b[38;5;241m*\u001b[39mkwargs: Any,\n\u001b[0;32m   4163\u001b[0m ) \u001b[38;5;241m-\u001b[39m\u001b[38;5;241m>\u001b[39m Iterator[Output]:\n\u001b[1;32m-> 4164\u001b[0m     \u001b[38;5;28;01myield from\u001b[39;00m \u001b[38;5;28mself\u001b[39m\u001b[38;5;241m.\u001b[39mbound\u001b[38;5;241m.\u001b[39mtransform(\n\u001b[0;32m   4165\u001b[0m         \u001b[38;5;28minput\u001b[39m,\n\u001b[0;32m   4166\u001b[0m         \u001b[38;5;28mself\u001b[39m\u001b[38;5;241m.\u001b[39m_merge_configs(config),\n\u001b[0;32m   4167\u001b[0m         \u001b[38;5;241m*\u001b[39m\u001b[38;5;241m*\u001b[39m{\u001b[38;5;241m*\u001b[39m\u001b[38;5;241m*\u001b[39m\u001b[38;5;28mself\u001b[39m\u001b[38;5;241m.\u001b[39mkwargs, \u001b[38;5;241m*\u001b[39m\u001b[38;5;241m*\u001b[39mkwargs},\n\u001b[0;32m   4168\u001b[0m     )\n",
      "File \u001b[1;32md:\\MusaddiqueHussainLabs\\omniqhub\\.conda\\Lib\\site-packages\\langchain_core\\runnables\\base.py:1032\u001b[0m, in \u001b[0;36mRunnable.transform\u001b[1;34m(self, input, config, **kwargs)\u001b[0m\n\u001b[0;32m   1029\u001b[0m final: Input\n\u001b[0;32m   1030\u001b[0m got_first_val \u001b[38;5;241m=\u001b[39m \u001b[38;5;28;01mFalse\u001b[39;00m\n\u001b[1;32m-> 1032\u001b[0m \u001b[43m\u001b[49m\u001b[38;5;28;43;01mfor\u001b[39;49;00m\u001b[43m \u001b[49m\u001b[43mchunk\u001b[49m\u001b[43m \u001b[49m\u001b[38;5;129;43;01min\u001b[39;49;00m\u001b[43m \u001b[49m\u001b[38;5;28;43minput\u001b[39;49m\u001b[43m:\u001b[49m\n\u001b[0;32m   1033\u001b[0m \u001b[43m    \u001b[49m\u001b[38;5;28;43;01mif\u001b[39;49;00m\u001b[43m \u001b[49m\u001b[38;5;129;43;01mnot\u001b[39;49;00m\u001b[43m \u001b[49m\u001b[43mgot_first_val\u001b[49m\u001b[43m:\u001b[49m\n\u001b[0;32m   1034\u001b[0m \u001b[43m        \u001b[49m\u001b[43mfinal\u001b[49m\u001b[43m \u001b[49m\u001b[38;5;241;43m=\u001b[39;49m\u001b[43m \u001b[49m\u001b[43mchunk\u001b[49m\n",
      "File \u001b[1;32md:\\MusaddiqueHussainLabs\\omniqhub\\.conda\\Lib\\site-packages\\langchain_core\\runnables\\base.py:1042\u001b[0m, in \u001b[0;36mRunnable.transform\u001b[1;34m(self, input, config, **kwargs)\u001b[0m\n\u001b[0;32m   1039\u001b[0m         final \u001b[38;5;241m=\u001b[39m final \u001b[38;5;241m+\u001b[39m chunk  \u001b[38;5;66;03m# type: ignore[operator]\u001b[39;00m\n\u001b[0;32m   1041\u001b[0m \u001b[38;5;28;01mif\u001b[39;00m got_first_val:\n\u001b[1;32m-> 1042\u001b[0m     \u001b[38;5;28;01myield from\u001b[39;00m \u001b[38;5;28mself\u001b[39m\u001b[38;5;241m.\u001b[39mstream(final, config, \u001b[38;5;241m*\u001b[39m\u001b[38;5;241m*\u001b[39mkwargs)\n",
      "File \u001b[1;32md:\\MusaddiqueHussainLabs\\omniqhub\\.conda\\Lib\\site-packages\\langchain_core\\runnables\\base.py:577\u001b[0m, in \u001b[0;36mRunnable.stream\u001b[1;34m(self, input, config, **kwargs)\u001b[0m\n\u001b[0;32m    567\u001b[0m \u001b[38;5;28;01mdef\u001b[39;00m \u001b[38;5;21mstream\u001b[39m(\n\u001b[0;32m    568\u001b[0m     \u001b[38;5;28mself\u001b[39m,\n\u001b[0;32m    569\u001b[0m     \u001b[38;5;28minput\u001b[39m: Input,\n\u001b[0;32m    570\u001b[0m     config: Optional[RunnableConfig] \u001b[38;5;241m=\u001b[39m \u001b[38;5;28;01mNone\u001b[39;00m,\n\u001b[0;32m    571\u001b[0m     \u001b[38;5;241m*\u001b[39m\u001b[38;5;241m*\u001b[39mkwargs: Optional[Any],\n\u001b[0;32m    572\u001b[0m ) \u001b[38;5;241m-\u001b[39m\u001b[38;5;241m>\u001b[39m Iterator[Output]:\n\u001b[0;32m    573\u001b[0m \u001b[38;5;250m    \u001b[39m\u001b[38;5;124;03m\"\"\"\u001b[39;00m\n\u001b[0;32m    574\u001b[0m \u001b[38;5;124;03m    Default implementation of stream, which calls invoke.\u001b[39;00m\n\u001b[0;32m    575\u001b[0m \u001b[38;5;124;03m    Subclasses should override this method if they support streaming output.\u001b[39;00m\n\u001b[0;32m    576\u001b[0m \u001b[38;5;124;03m    \"\"\"\u001b[39;00m\n\u001b[1;32m--> 577\u001b[0m     \u001b[38;5;28;01myield\u001b[39;00m \u001b[38;5;28;43mself\u001b[39;49m\u001b[38;5;241;43m.\u001b[39;49m\u001b[43minvoke\u001b[49m\u001b[43m(\u001b[49m\u001b[38;5;28;43minput\u001b[39;49m\u001b[43m,\u001b[49m\u001b[43m \u001b[49m\u001b[43mconfig\u001b[49m\u001b[43m,\u001b[49m\u001b[43m \u001b[49m\u001b[38;5;241;43m*\u001b[39;49m\u001b[38;5;241;43m*\u001b[39;49m\u001b[43mkwargs\u001b[49m\u001b[43m)\u001b[49m\n",
      "File \u001b[1;32md:\\MusaddiqueHussainLabs\\omniqhub\\.conda\\Lib\\site-packages\\langchain_core\\prompts\\base.py:113\u001b[0m, in \u001b[0;36mBasePromptTemplate.invoke\u001b[1;34m(self, input, config)\u001b[0m\n\u001b[0;32m    111\u001b[0m \u001b[38;5;28;01mif\u001b[39;00m \u001b[38;5;28mself\u001b[39m\u001b[38;5;241m.\u001b[39mtags:\n\u001b[0;32m    112\u001b[0m     config[\u001b[38;5;124m\"\u001b[39m\u001b[38;5;124mtags\u001b[39m\u001b[38;5;124m\"\u001b[39m]\u001b[38;5;241m.\u001b[39mextend(\u001b[38;5;28mself\u001b[39m\u001b[38;5;241m.\u001b[39mtags)\n\u001b[1;32m--> 113\u001b[0m \u001b[38;5;28;01mreturn\u001b[39;00m \u001b[38;5;28;43mself\u001b[39;49m\u001b[38;5;241;43m.\u001b[39;49m\u001b[43m_call_with_config\u001b[49m\u001b[43m(\u001b[49m\n\u001b[0;32m    114\u001b[0m \u001b[43m    \u001b[49m\u001b[38;5;28;43mself\u001b[39;49m\u001b[38;5;241;43m.\u001b[39;49m\u001b[43m_format_prompt_with_error_handling\u001b[49m\u001b[43m,\u001b[49m\n\u001b[0;32m    115\u001b[0m \u001b[43m    \u001b[49m\u001b[38;5;28;43minput\u001b[39;49m\u001b[43m,\u001b[49m\n\u001b[0;32m    116\u001b[0m \u001b[43m    \u001b[49m\u001b[43mconfig\u001b[49m\u001b[43m,\u001b[49m\n\u001b[0;32m    117\u001b[0m \u001b[43m    \u001b[49m\u001b[43mrun_type\u001b[49m\u001b[38;5;241;43m=\u001b[39;49m\u001b[38;5;124;43m\"\u001b[39;49m\u001b[38;5;124;43mprompt\u001b[39;49m\u001b[38;5;124;43m\"\u001b[39;49m\u001b[43m,\u001b[49m\n\u001b[0;32m    118\u001b[0m \u001b[43m\u001b[49m\u001b[43m)\u001b[49m\n",
      "File \u001b[1;32md:\\MusaddiqueHussainLabs\\omniqhub\\.conda\\Lib\\site-packages\\langchain_core\\runnables\\base.py:1243\u001b[0m, in \u001b[0;36mRunnable._call_with_config\u001b[1;34m(self, func, input, config, run_type, **kwargs)\u001b[0m\n\u001b[0;32m   1239\u001b[0m     context \u001b[38;5;241m=\u001b[39m copy_context()\n\u001b[0;32m   1240\u001b[0m     context\u001b[38;5;241m.\u001b[39mrun(var_child_runnable_config\u001b[38;5;241m.\u001b[39mset, child_config)\n\u001b[0;32m   1241\u001b[0m     output \u001b[38;5;241m=\u001b[39m cast(\n\u001b[0;32m   1242\u001b[0m         Output,\n\u001b[1;32m-> 1243\u001b[0m         \u001b[43mcontext\u001b[49m\u001b[38;5;241;43m.\u001b[39;49m\u001b[43mrun\u001b[49m\u001b[43m(\u001b[49m\n\u001b[0;32m   1244\u001b[0m \u001b[43m            \u001b[49m\u001b[43mcall_func_with_variable_args\u001b[49m\u001b[43m,\u001b[49m\n\u001b[0;32m   1245\u001b[0m \u001b[43m            \u001b[49m\u001b[43mfunc\u001b[49m\u001b[43m,\u001b[49m\u001b[43m  \u001b[49m\u001b[38;5;66;43;03m# type: ignore[arg-type]\u001b[39;49;00m\n\u001b[0;32m   1246\u001b[0m \u001b[43m            \u001b[49m\u001b[38;5;28;43minput\u001b[39;49m\u001b[43m,\u001b[49m\u001b[43m  \u001b[49m\u001b[38;5;66;43;03m# type: ignore[arg-type]\u001b[39;49;00m\n\u001b[0;32m   1247\u001b[0m \u001b[43m            \u001b[49m\u001b[43mconfig\u001b[49m\u001b[43m,\u001b[49m\n\u001b[0;32m   1248\u001b[0m \u001b[43m            \u001b[49m\u001b[43mrun_manager\u001b[49m\u001b[43m,\u001b[49m\n\u001b[0;32m   1249\u001b[0m \u001b[43m            \u001b[49m\u001b[38;5;241;43m*\u001b[39;49m\u001b[38;5;241;43m*\u001b[39;49m\u001b[43mkwargs\u001b[49m\u001b[43m,\u001b[49m\n\u001b[0;32m   1250\u001b[0m \u001b[43m        \u001b[49m\u001b[43m)\u001b[49m,\n\u001b[0;32m   1251\u001b[0m     )\n\u001b[0;32m   1252\u001b[0m \u001b[38;5;28;01mexcept\u001b[39;00m \u001b[38;5;167;01mBaseException\u001b[39;00m \u001b[38;5;28;01mas\u001b[39;00m e:\n\u001b[0;32m   1253\u001b[0m     run_manager\u001b[38;5;241m.\u001b[39mon_chain_error(e)\n",
      "File \u001b[1;32md:\\MusaddiqueHussainLabs\\omniqhub\\.conda\\Lib\\site-packages\\langchain_core\\runnables\\config.py:326\u001b[0m, in \u001b[0;36mcall_func_with_variable_args\u001b[1;34m(func, input, config, run_manager, **kwargs)\u001b[0m\n\u001b[0;32m    324\u001b[0m \u001b[38;5;28;01mif\u001b[39;00m run_manager \u001b[38;5;129;01mis\u001b[39;00m \u001b[38;5;129;01mnot\u001b[39;00m \u001b[38;5;28;01mNone\u001b[39;00m \u001b[38;5;129;01mand\u001b[39;00m accepts_run_manager(func):\n\u001b[0;32m    325\u001b[0m     kwargs[\u001b[38;5;124m\"\u001b[39m\u001b[38;5;124mrun_manager\u001b[39m\u001b[38;5;124m\"\u001b[39m] \u001b[38;5;241m=\u001b[39m run_manager\n\u001b[1;32m--> 326\u001b[0m \u001b[38;5;28;01mreturn\u001b[39;00m \u001b[43mfunc\u001b[49m\u001b[43m(\u001b[49m\u001b[38;5;28;43minput\u001b[39;49m\u001b[43m,\u001b[49m\u001b[43m \u001b[49m\u001b[38;5;241;43m*\u001b[39;49m\u001b[38;5;241;43m*\u001b[39;49m\u001b[43mkwargs\u001b[49m\u001b[43m)\u001b[49m\n",
      "File \u001b[1;32md:\\MusaddiqueHussainLabs\\omniqhub\\.conda\\Lib\\site-packages\\langchain_core\\prompts\\base.py:98\u001b[0m, in \u001b[0;36mBasePromptTemplate._format_prompt_with_error_handling\u001b[1;34m(self, inner_input)\u001b[0m\n\u001b[0;32m     96\u001b[0m missing \u001b[38;5;241m=\u001b[39m \u001b[38;5;28mset\u001b[39m(\u001b[38;5;28mself\u001b[39m\u001b[38;5;241m.\u001b[39minput_variables)\u001b[38;5;241m.\u001b[39mdifference(inner_input)\n\u001b[0;32m     97\u001b[0m \u001b[38;5;28;01mif\u001b[39;00m missing:\n\u001b[1;32m---> 98\u001b[0m     \u001b[38;5;28;01mraise\u001b[39;00m \u001b[38;5;167;01mKeyError\u001b[39;00m(\n\u001b[0;32m     99\u001b[0m         \u001b[38;5;124mf\u001b[39m\u001b[38;5;124m\"\u001b[39m\u001b[38;5;124mInput to \u001b[39m\u001b[38;5;132;01m{\u001b[39;00m\u001b[38;5;28mself\u001b[39m\u001b[38;5;241m.\u001b[39m\u001b[38;5;18m__class__\u001b[39m\u001b[38;5;241m.\u001b[39m\u001b[38;5;18m__name__\u001b[39m\u001b[38;5;132;01m}\u001b[39;00m\u001b[38;5;124m is missing variables \u001b[39m\u001b[38;5;132;01m{\u001b[39;00mmissing\u001b[38;5;132;01m}\u001b[39;00m\u001b[38;5;124m. \u001b[39m\u001b[38;5;124m\"\u001b[39m\n\u001b[0;32m    100\u001b[0m         \u001b[38;5;124mf\u001b[39m\u001b[38;5;124m\"\u001b[39m\u001b[38;5;124m Expected: \u001b[39m\u001b[38;5;132;01m{\u001b[39;00m\u001b[38;5;28mself\u001b[39m\u001b[38;5;241m.\u001b[39minput_variables\u001b[38;5;132;01m}\u001b[39;00m\u001b[38;5;124m\"\u001b[39m\n\u001b[0;32m    101\u001b[0m         \u001b[38;5;124mf\u001b[39m\u001b[38;5;124m\"\u001b[39m\u001b[38;5;124m Received: \u001b[39m\u001b[38;5;132;01m{\u001b[39;00m\u001b[38;5;28mlist\u001b[39m(inner_input\u001b[38;5;241m.\u001b[39mkeys())\u001b[38;5;132;01m}\u001b[39;00m\u001b[38;5;124m\"\u001b[39m\n\u001b[0;32m    102\u001b[0m     )\n\u001b[0;32m    103\u001b[0m \u001b[38;5;28;01mreturn\u001b[39;00m \u001b[38;5;28mself\u001b[39m\u001b[38;5;241m.\u001b[39mformat_prompt(\u001b[38;5;241m*\u001b[39m\u001b[38;5;241m*\u001b[39minner_input)\n",
      "\u001b[1;31mKeyError\u001b[0m: \"Input to PromptTemplate is missing variables {'context'}.  Expected: ['agent_scratchpad', 'context', 'input'] Received: ['input', 'intermediate_steps', 'agent_scratchpad']\""
     ]
    }
   ],
   "source": [
    "agent_executor.invoke({\"input\": \"what are all plans covered?\"})"
   ]
  },
  {
   "cell_type": "code",
   "execution_count": 204,
   "metadata": {},
   "outputs": [],
   "source": [
    "prompt = hub.pull(\"hwchase17/react\")\n"
   ]
  },
  {
   "cell_type": "code",
   "execution_count": 205,
   "metadata": {},
   "outputs": [
    {
     "name": "stdout",
     "output_type": "stream",
     "text": [
      "Answer the following questions as best you can. You have access to the following tools:\n",
      "\n",
      "{tools}\n",
      "\n",
      "Use the following format:\n",
      "\n",
      "Question: the input question you must answer\n",
      "Thought: you should always think about what to do\n",
      "Action: the action to take, should be one of [{tool_names}]\n",
      "Action Input: the input to the action\n",
      "Observation: the result of the action\n",
      "... (this Thought/Action/Action Input/Observation can repeat N times)\n",
      "Thought: I now know the final answer\n",
      "Final Answer: the final answer to the original input question\n",
      "\n",
      "Begin!\n",
      "\n",
      "Question: {input}\n",
      "Thought:{agent_scratchpad}\n"
     ]
    }
   ],
   "source": [
    "print(prompt.template)"
   ]
  },
  {
   "cell_type": "code",
   "execution_count": 207,
   "metadata": {},
   "outputs": [
    {
     "name": "stdout",
     "output_type": "stream",
     "text": [
      "input_variables=['agent_scratchpad', 'input', 'tool_names', 'tools'] template='Answer the following questions as best you can. You have access to the following tools:\\n\\n{tools}\\n\\nUse the following format:\\n\\nQuestion: the input question you must answer\\nThought: you should always think about what to do\\nAction: the action to take, should be one of [{tool_names}]\\nAction Input: the input to the action\\nObservation: the result of the action\\n... (this Thought/Action/Action Input/Observation can repeat N times)\\nThought: I now know the final answer\\nFinal Answer: the final answer to the original input question\\n\\nBegin!\\n\\nQuestion: {input}\\nThought:{agent_scratchpad}'\n"
     ]
    }
   ],
   "source": [
    "print(prompt)"
   ]
  },
  {
   "cell_type": "code",
   "execution_count": 113,
   "metadata": {},
   "outputs": [
    {
     "name": "stdout",
     "output_type": "stream",
     "text": [
      "content=\"White blankets the ground,\\nA winter's soft embrace,\\nSnow falls\"\n",
      "content=\" gently down,\\nA world transformed with grace.\\n\\nFlurries dance and swirl,\\nA symphony of sound,\\nNature's gentle purl,\"\n",
      "content=\"\\nAs winter's charm is found.\"\n"
     ]
    }
   ],
   "source": [
    "import sys\n",
    "\n",
    "for chunk in llm.stream(\"Tell me a short poem about snow\"):\n",
    "    print(chunk)\n",
    "    "
   ]
  },
  {
   "cell_type": "code",
   "execution_count": 1,
   "metadata": {},
   "outputs": [
    {
     "data": {
      "text/plain": [
       "[SystemMessage(content='You are a helpful AI bot. Your name is Bob.'),\n",
       " HumanMessage(content='Hello, how are you doing?'),\n",
       " AIMessage(content=\"I'm doing well, thanks!\"),\n",
       " HumanMessage(content='What is your name?')]"
      ]
     },
     "execution_count": 1,
     "metadata": {},
     "output_type": "execute_result"
    }
   ],
   "source": [
    "from langchain_core.prompts import ChatPromptTemplate\n",
    "\n",
    "chat_template = ChatPromptTemplate.from_messages(\n",
    "    [\n",
    "        (\"system\", \"You are a helpful AI bot. Your name is {name}.\"),\n",
    "        (\"human\", \"Hello, how are you doing?\"),\n",
    "        (\"ai\", \"I'm doing well, thanks!\"),\n",
    "        (\"human\", \"{user_input}\"),\n",
    "    ]\n",
    ")\n",
    "\n",
    "messages = chat_template.format_messages(name=\"Bob\", user_input=\"What is your name?\")\n",
    "messages"
   ]
  },
  {
   "cell_type": "code",
   "execution_count": 14,
   "metadata": {},
   "outputs": [
    {
     "ename": "OutputParserException",
     "evalue": "Invalid json output: - What are the comprehensive benefits covered under my Northwind Health Plus insurance plan?\n- List all healthcare services encompassed by my Northwind Health Plus insurance policy.\n- Provide a detailed breakdown of the medical services available to me as a Northwind Health Plus subscriber.\n- What healthcare procedures and treatments are included in the coverage of my Northwind Health Plus plan?\n- What are the specific medical services and treatments that I am eligible to receive under my Northwind Health Plus insurance coverage?",
     "output_type": "error",
     "traceback": [
      "\u001b[1;31m---------------------------------------------------------------------------\u001b[0m",
      "\u001b[1;31mJSONDecodeError\u001b[0m                           Traceback (most recent call last)",
      "File \u001b[1;32md:\\MusaddiqueHussainLabs\\omniqhub\\.conda\\Lib\\site-packages\\langchain_core\\output_parsers\\json.py:212\u001b[0m, in \u001b[0;36mJsonOutputParser.parse_result\u001b[1;34m(self, result, partial)\u001b[0m\n\u001b[0;32m    211\u001b[0m \u001b[38;5;28;01mtry\u001b[39;00m:\n\u001b[1;32m--> 212\u001b[0m     \u001b[38;5;28;01mreturn\u001b[39;00m \u001b[43mparse_json_markdown\u001b[49m\u001b[43m(\u001b[49m\u001b[43mtext\u001b[49m\u001b[43m)\u001b[49m\n\u001b[0;32m    213\u001b[0m \u001b[38;5;28;01mexcept\u001b[39;00m JSONDecodeError \u001b[38;5;28;01mas\u001b[39;00m e:\n",
      "File \u001b[1;32md:\\MusaddiqueHussainLabs\\omniqhub\\.conda\\Lib\\site-packages\\langchain_core\\output_parsers\\json.py:157\u001b[0m, in \u001b[0;36mparse_json_markdown\u001b[1;34m(json_string, parser)\u001b[0m\n\u001b[0;32m    156\u001b[0m \u001b[38;5;66;03m# Parse the JSON string into a Python dictionary\u001b[39;00m\n\u001b[1;32m--> 157\u001b[0m parsed \u001b[38;5;241m=\u001b[39m \u001b[43mparser\u001b[49m\u001b[43m(\u001b[49m\u001b[43mjson_str\u001b[49m\u001b[43m)\u001b[49m\n\u001b[0;32m    159\u001b[0m \u001b[38;5;28;01mreturn\u001b[39;00m parsed\n",
      "File \u001b[1;32md:\\MusaddiqueHussainLabs\\omniqhub\\.conda\\Lib\\site-packages\\langchain_core\\output_parsers\\json.py:125\u001b[0m, in \u001b[0;36mparse_partial_json\u001b[1;34m(s, strict)\u001b[0m\n\u001b[0;32m    122\u001b[0m \u001b[38;5;66;03m# If we got here, we ran out of characters to remove\u001b[39;00m\n\u001b[0;32m    123\u001b[0m \u001b[38;5;66;03m# and still couldn't parse the string as JSON, so return the parse error\u001b[39;00m\n\u001b[0;32m    124\u001b[0m \u001b[38;5;66;03m# for the original string.\u001b[39;00m\n\u001b[1;32m--> 125\u001b[0m \u001b[38;5;28;01mreturn\u001b[39;00m \u001b[43mjson\u001b[49m\u001b[38;5;241;43m.\u001b[39;49m\u001b[43mloads\u001b[49m\u001b[43m(\u001b[49m\u001b[43ms\u001b[49m\u001b[43m,\u001b[49m\u001b[43m \u001b[49m\u001b[43mstrict\u001b[49m\u001b[38;5;241;43m=\u001b[39;49m\u001b[43mstrict\u001b[49m\u001b[43m)\u001b[49m\n",
      "File \u001b[1;32md:\\MusaddiqueHussainLabs\\omniqhub\\.conda\\Lib\\json\\__init__.py:359\u001b[0m, in \u001b[0;36mloads\u001b[1;34m(s, cls, object_hook, parse_float, parse_int, parse_constant, object_pairs_hook, **kw)\u001b[0m\n\u001b[0;32m    358\u001b[0m     kw[\u001b[38;5;124m'\u001b[39m\u001b[38;5;124mparse_constant\u001b[39m\u001b[38;5;124m'\u001b[39m] \u001b[38;5;241m=\u001b[39m parse_constant\n\u001b[1;32m--> 359\u001b[0m \u001b[38;5;28;01mreturn\u001b[39;00m \u001b[38;5;28;43mcls\u001b[39;49m\u001b[43m(\u001b[49m\u001b[38;5;241;43m*\u001b[39;49m\u001b[38;5;241;43m*\u001b[39;49m\u001b[43mkw\u001b[49m\u001b[43m)\u001b[49m\u001b[38;5;241;43m.\u001b[39;49m\u001b[43mdecode\u001b[49m\u001b[43m(\u001b[49m\u001b[43ms\u001b[49m\u001b[43m)\u001b[49m\n",
      "File \u001b[1;32md:\\MusaddiqueHussainLabs\\omniqhub\\.conda\\Lib\\json\\decoder.py:337\u001b[0m, in \u001b[0;36mJSONDecoder.decode\u001b[1;34m(self, s, _w)\u001b[0m\n\u001b[0;32m    333\u001b[0m \u001b[38;5;250m\u001b[39m\u001b[38;5;124;03m\"\"\"Return the Python representation of ``s`` (a ``str`` instance\u001b[39;00m\n\u001b[0;32m    334\u001b[0m \u001b[38;5;124;03mcontaining a JSON document).\u001b[39;00m\n\u001b[0;32m    335\u001b[0m \n\u001b[0;32m    336\u001b[0m \u001b[38;5;124;03m\"\"\"\u001b[39;00m\n\u001b[1;32m--> 337\u001b[0m obj, end \u001b[38;5;241m=\u001b[39m \u001b[38;5;28;43mself\u001b[39;49m\u001b[38;5;241;43m.\u001b[39;49m\u001b[43mraw_decode\u001b[49m\u001b[43m(\u001b[49m\u001b[43ms\u001b[49m\u001b[43m,\u001b[49m\u001b[43m \u001b[49m\u001b[43midx\u001b[49m\u001b[38;5;241;43m=\u001b[39;49m\u001b[43m_w\u001b[49m\u001b[43m(\u001b[49m\u001b[43ms\u001b[49m\u001b[43m,\u001b[49m\u001b[43m \u001b[49m\u001b[38;5;241;43m0\u001b[39;49m\u001b[43m)\u001b[49m\u001b[38;5;241;43m.\u001b[39;49m\u001b[43mend\u001b[49m\u001b[43m(\u001b[49m\u001b[43m)\u001b[49m\u001b[43m)\u001b[49m\n\u001b[0;32m    338\u001b[0m end \u001b[38;5;241m=\u001b[39m _w(s, end)\u001b[38;5;241m.\u001b[39mend()\n",
      "File \u001b[1;32md:\\MusaddiqueHussainLabs\\omniqhub\\.conda\\Lib\\json\\decoder.py:355\u001b[0m, in \u001b[0;36mJSONDecoder.raw_decode\u001b[1;34m(self, s, idx)\u001b[0m\n\u001b[0;32m    354\u001b[0m \u001b[38;5;28;01mexcept\u001b[39;00m \u001b[38;5;167;01mStopIteration\u001b[39;00m \u001b[38;5;28;01mas\u001b[39;00m err:\n\u001b[1;32m--> 355\u001b[0m     \u001b[38;5;28;01mraise\u001b[39;00m JSONDecodeError(\u001b[38;5;124m\"\u001b[39m\u001b[38;5;124mExpecting value\u001b[39m\u001b[38;5;124m\"\u001b[39m, s, err\u001b[38;5;241m.\u001b[39mvalue) \u001b[38;5;28;01mfrom\u001b[39;00m \u001b[38;5;28;01mNone\u001b[39;00m\n\u001b[0;32m    356\u001b[0m \u001b[38;5;28;01mreturn\u001b[39;00m obj, end\n",
      "\u001b[1;31mJSONDecodeError\u001b[0m: Expecting value: line 1 column 1 (char 0)",
      "\nThe above exception was the direct cause of the following exception:\n",
      "\u001b[1;31mOutputParserException\u001b[0m                     Traceback (most recent call last)",
      "Cell \u001b[1;32mIn[14], line 52\u001b[0m\n\u001b[0;32m     47\u001b[0m retriever \u001b[38;5;241m=\u001b[39m MultiQueryRetriever(\n\u001b[0;32m     48\u001b[0m     retriever\u001b[38;5;241m=\u001b[39mvector_store\u001b[38;5;241m.\u001b[39mas_retriever(), llm_chain\u001b[38;5;241m=\u001b[39mllm_chain, parser_key\u001b[38;5;241m=\u001b[39m\u001b[38;5;124m\"\u001b[39m\u001b[38;5;124mlines\u001b[39m\u001b[38;5;124m\"\u001b[39m\n\u001b[0;32m     49\u001b[0m )  \u001b[38;5;66;03m# \"lines\" is the key (attribute name) of the parsed output\u001b[39;00m\n\u001b[0;32m     51\u001b[0m \u001b[38;5;66;03m# Results\u001b[39;00m\n\u001b[1;32m---> 52\u001b[0m unique_docs \u001b[38;5;241m=\u001b[39m \u001b[43mretriever\u001b[49m\u001b[38;5;241;43m.\u001b[39;49m\u001b[43mget_relevant_documents\u001b[49m\u001b[43m(\u001b[49m\n\u001b[0;32m     53\u001b[0m \u001b[43m    \u001b[49m\u001b[43mquery\u001b[49m\u001b[38;5;241;43m=\u001b[39;49m\u001b[43mquestion\u001b[49m\n\u001b[0;32m     54\u001b[0m \u001b[43m)\u001b[49m\n\u001b[0;32m     55\u001b[0m \u001b[38;5;66;03m# len(unique_docs)\u001b[39;00m\n",
      "File \u001b[1;32md:\\MusaddiqueHussainLabs\\omniqhub\\.conda\\Lib\\site-packages\\langchain_core\\retrievers.py:224\u001b[0m, in \u001b[0;36mBaseRetriever.get_relevant_documents\u001b[1;34m(self, query, callbacks, tags, metadata, run_name, **kwargs)\u001b[0m\n\u001b[0;32m    222\u001b[0m \u001b[38;5;28;01mexcept\u001b[39;00m \u001b[38;5;167;01mException\u001b[39;00m \u001b[38;5;28;01mas\u001b[39;00m e:\n\u001b[0;32m    223\u001b[0m     run_manager\u001b[38;5;241m.\u001b[39mon_retriever_error(e)\n\u001b[1;32m--> 224\u001b[0m     \u001b[38;5;28;01mraise\u001b[39;00m e\n\u001b[0;32m    225\u001b[0m \u001b[38;5;28;01melse\u001b[39;00m:\n\u001b[0;32m    226\u001b[0m     run_manager\u001b[38;5;241m.\u001b[39mon_retriever_end(\n\u001b[0;32m    227\u001b[0m         result,\n\u001b[0;32m    228\u001b[0m     )\n",
      "File \u001b[1;32md:\\MusaddiqueHussainLabs\\omniqhub\\.conda\\Lib\\site-packages\\langchain_core\\retrievers.py:217\u001b[0m, in \u001b[0;36mBaseRetriever.get_relevant_documents\u001b[1;34m(self, query, callbacks, tags, metadata, run_name, **kwargs)\u001b[0m\n\u001b[0;32m    215\u001b[0m _kwargs \u001b[38;5;241m=\u001b[39m kwargs \u001b[38;5;28;01mif\u001b[39;00m \u001b[38;5;28mself\u001b[39m\u001b[38;5;241m.\u001b[39m_expects_other_args \u001b[38;5;28;01melse\u001b[39;00m {}\n\u001b[0;32m    216\u001b[0m \u001b[38;5;28;01mif\u001b[39;00m \u001b[38;5;28mself\u001b[39m\u001b[38;5;241m.\u001b[39m_new_arg_supported:\n\u001b[1;32m--> 217\u001b[0m     result \u001b[38;5;241m=\u001b[39m \u001b[38;5;28;43mself\u001b[39;49m\u001b[38;5;241;43m.\u001b[39;49m\u001b[43m_get_relevant_documents\u001b[49m\u001b[43m(\u001b[49m\n\u001b[0;32m    218\u001b[0m \u001b[43m        \u001b[49m\u001b[43mquery\u001b[49m\u001b[43m,\u001b[49m\u001b[43m \u001b[49m\u001b[43mrun_manager\u001b[49m\u001b[38;5;241;43m=\u001b[39;49m\u001b[43mrun_manager\u001b[49m\u001b[43m,\u001b[49m\u001b[43m \u001b[49m\u001b[38;5;241;43m*\u001b[39;49m\u001b[38;5;241;43m*\u001b[39;49m\u001b[43m_kwargs\u001b[49m\n\u001b[0;32m    219\u001b[0m \u001b[43m    \u001b[49m\u001b[43m)\u001b[49m\n\u001b[0;32m    220\u001b[0m \u001b[38;5;28;01melse\u001b[39;00m:\n\u001b[0;32m    221\u001b[0m     result \u001b[38;5;241m=\u001b[39m \u001b[38;5;28mself\u001b[39m\u001b[38;5;241m.\u001b[39m_get_relevant_documents(query, \u001b[38;5;241m*\u001b[39m\u001b[38;5;241m*\u001b[39m_kwargs)\n",
      "File \u001b[1;32md:\\MusaddiqueHussainLabs\\omniqhub\\.conda\\Lib\\site-packages\\langchain\\retrievers\\multi_query.py:161\u001b[0m, in \u001b[0;36mMultiQueryRetriever._get_relevant_documents\u001b[1;34m(self, query, run_manager)\u001b[0m\n\u001b[0;32m    147\u001b[0m \u001b[38;5;28;01mdef\u001b[39;00m \u001b[38;5;21m_get_relevant_documents\u001b[39m(\n\u001b[0;32m    148\u001b[0m     \u001b[38;5;28mself\u001b[39m,\n\u001b[0;32m    149\u001b[0m     query: \u001b[38;5;28mstr\u001b[39m,\n\u001b[0;32m    150\u001b[0m     \u001b[38;5;241m*\u001b[39m,\n\u001b[0;32m    151\u001b[0m     run_manager: CallbackManagerForRetrieverRun,\n\u001b[0;32m    152\u001b[0m ) \u001b[38;5;241m-\u001b[39m\u001b[38;5;241m>\u001b[39m List[Document]:\n\u001b[0;32m    153\u001b[0m \u001b[38;5;250m    \u001b[39m\u001b[38;5;124;03m\"\"\"Get relevant documents given a user query.\u001b[39;00m\n\u001b[0;32m    154\u001b[0m \n\u001b[0;32m    155\u001b[0m \u001b[38;5;124;03m    Args:\u001b[39;00m\n\u001b[1;32m   (...)\u001b[0m\n\u001b[0;32m    159\u001b[0m \u001b[38;5;124;03m        Unique union of relevant documents from all generated queries\u001b[39;00m\n\u001b[0;32m    160\u001b[0m \u001b[38;5;124;03m    \"\"\"\u001b[39;00m\n\u001b[1;32m--> 161\u001b[0m     queries \u001b[38;5;241m=\u001b[39m \u001b[38;5;28;43mself\u001b[39;49m\u001b[38;5;241;43m.\u001b[39;49m\u001b[43mgenerate_queries\u001b[49m\u001b[43m(\u001b[49m\u001b[43mquery\u001b[49m\u001b[43m,\u001b[49m\u001b[43m \u001b[49m\u001b[43mrun_manager\u001b[49m\u001b[43m)\u001b[49m\n\u001b[0;32m    162\u001b[0m     \u001b[38;5;28;01mif\u001b[39;00m \u001b[38;5;28mself\u001b[39m\u001b[38;5;241m.\u001b[39minclude_original:\n\u001b[0;32m    163\u001b[0m         queries\u001b[38;5;241m.\u001b[39mappend(query)\n",
      "File \u001b[1;32md:\\MusaddiqueHussainLabs\\omniqhub\\.conda\\Lib\\site-packages\\langchain\\retrievers\\multi_query.py:178\u001b[0m, in \u001b[0;36mMultiQueryRetriever.generate_queries\u001b[1;34m(self, question, run_manager)\u001b[0m\n\u001b[0;32m    167\u001b[0m \u001b[38;5;28;01mdef\u001b[39;00m \u001b[38;5;21mgenerate_queries\u001b[39m(\n\u001b[0;32m    168\u001b[0m     \u001b[38;5;28mself\u001b[39m, question: \u001b[38;5;28mstr\u001b[39m, run_manager: CallbackManagerForRetrieverRun\n\u001b[0;32m    169\u001b[0m ) \u001b[38;5;241m-\u001b[39m\u001b[38;5;241m>\u001b[39m List[\u001b[38;5;28mstr\u001b[39m]:\n\u001b[0;32m    170\u001b[0m \u001b[38;5;250m    \u001b[39m\u001b[38;5;124;03m\"\"\"Generate queries based upon user input.\u001b[39;00m\n\u001b[0;32m    171\u001b[0m \n\u001b[0;32m    172\u001b[0m \u001b[38;5;124;03m    Args:\u001b[39;00m\n\u001b[1;32m   (...)\u001b[0m\n\u001b[0;32m    176\u001b[0m \u001b[38;5;124;03m        List of LLM generated queries that are similar to the user input\u001b[39;00m\n\u001b[0;32m    177\u001b[0m \u001b[38;5;124;03m    \"\"\"\u001b[39;00m\n\u001b[1;32m--> 178\u001b[0m     response \u001b[38;5;241m=\u001b[39m \u001b[38;5;28;43mself\u001b[39;49m\u001b[38;5;241;43m.\u001b[39;49m\u001b[43mllm_chain\u001b[49m\u001b[43m(\u001b[49m\n\u001b[0;32m    179\u001b[0m \u001b[43m        \u001b[49m\u001b[43m{\u001b[49m\u001b[38;5;124;43m\"\u001b[39;49m\u001b[38;5;124;43mquestion\u001b[39;49m\u001b[38;5;124;43m\"\u001b[39;49m\u001b[43m:\u001b[49m\u001b[43m \u001b[49m\u001b[43mquestion\u001b[49m\u001b[43m}\u001b[49m\u001b[43m,\u001b[49m\u001b[43m \u001b[49m\u001b[43mcallbacks\u001b[49m\u001b[38;5;241;43m=\u001b[39;49m\u001b[43mrun_manager\u001b[49m\u001b[38;5;241;43m.\u001b[39;49m\u001b[43mget_child\u001b[49m\u001b[43m(\u001b[49m\u001b[43m)\u001b[49m\n\u001b[0;32m    180\u001b[0m \u001b[43m    \u001b[49m\u001b[43m)\u001b[49m\n\u001b[0;32m    181\u001b[0m     lines \u001b[38;5;241m=\u001b[39m response[\u001b[38;5;124m\"\u001b[39m\u001b[38;5;124mtext\u001b[39m\u001b[38;5;124m\"\u001b[39m]\n\u001b[0;32m    182\u001b[0m     \u001b[38;5;28;01mif\u001b[39;00m \u001b[38;5;28mself\u001b[39m\u001b[38;5;241m.\u001b[39mverbose:\n",
      "File \u001b[1;32md:\\MusaddiqueHussainLabs\\omniqhub\\.conda\\Lib\\site-packages\\langchain_core\\_api\\deprecation.py:145\u001b[0m, in \u001b[0;36mdeprecated.<locals>.deprecate.<locals>.warning_emitting_wrapper\u001b[1;34m(*args, **kwargs)\u001b[0m\n\u001b[0;32m    143\u001b[0m     warned \u001b[38;5;241m=\u001b[39m \u001b[38;5;28;01mTrue\u001b[39;00m\n\u001b[0;32m    144\u001b[0m     emit_warning()\n\u001b[1;32m--> 145\u001b[0m \u001b[38;5;28;01mreturn\u001b[39;00m \u001b[43mwrapped\u001b[49m\u001b[43m(\u001b[49m\u001b[38;5;241;43m*\u001b[39;49m\u001b[43margs\u001b[49m\u001b[43m,\u001b[49m\u001b[43m \u001b[49m\u001b[38;5;241;43m*\u001b[39;49m\u001b[38;5;241;43m*\u001b[39;49m\u001b[43mkwargs\u001b[49m\u001b[43m)\u001b[49m\n",
      "File \u001b[1;32md:\\MusaddiqueHussainLabs\\omniqhub\\.conda\\Lib\\site-packages\\langchain\\chains\\base.py:383\u001b[0m, in \u001b[0;36mChain.__call__\u001b[1;34m(self, inputs, return_only_outputs, callbacks, tags, metadata, run_name, include_run_info)\u001b[0m\n\u001b[0;32m    351\u001b[0m \u001b[38;5;250m\u001b[39m\u001b[38;5;124;03m\"\"\"Execute the chain.\u001b[39;00m\n\u001b[0;32m    352\u001b[0m \n\u001b[0;32m    353\u001b[0m \u001b[38;5;124;03mArgs:\u001b[39;00m\n\u001b[1;32m   (...)\u001b[0m\n\u001b[0;32m    374\u001b[0m \u001b[38;5;124;03m        `Chain.output_keys`.\u001b[39;00m\n\u001b[0;32m    375\u001b[0m \u001b[38;5;124;03m\"\"\"\u001b[39;00m\n\u001b[0;32m    376\u001b[0m config \u001b[38;5;241m=\u001b[39m {\n\u001b[0;32m    377\u001b[0m     \u001b[38;5;124m\"\u001b[39m\u001b[38;5;124mcallbacks\u001b[39m\u001b[38;5;124m\"\u001b[39m: callbacks,\n\u001b[0;32m    378\u001b[0m     \u001b[38;5;124m\"\u001b[39m\u001b[38;5;124mtags\u001b[39m\u001b[38;5;124m\"\u001b[39m: tags,\n\u001b[0;32m    379\u001b[0m     \u001b[38;5;124m\"\u001b[39m\u001b[38;5;124mmetadata\u001b[39m\u001b[38;5;124m\"\u001b[39m: metadata,\n\u001b[0;32m    380\u001b[0m     \u001b[38;5;124m\"\u001b[39m\u001b[38;5;124mrun_name\u001b[39m\u001b[38;5;124m\"\u001b[39m: run_name,\n\u001b[0;32m    381\u001b[0m }\n\u001b[1;32m--> 383\u001b[0m \u001b[38;5;28;01mreturn\u001b[39;00m \u001b[38;5;28;43mself\u001b[39;49m\u001b[38;5;241;43m.\u001b[39;49m\u001b[43minvoke\u001b[49m\u001b[43m(\u001b[49m\n\u001b[0;32m    384\u001b[0m \u001b[43m    \u001b[49m\u001b[43minputs\u001b[49m\u001b[43m,\u001b[49m\n\u001b[0;32m    385\u001b[0m \u001b[43m    \u001b[49m\u001b[43mcast\u001b[49m\u001b[43m(\u001b[49m\u001b[43mRunnableConfig\u001b[49m\u001b[43m,\u001b[49m\u001b[43m \u001b[49m\u001b[43m{\u001b[49m\u001b[43mk\u001b[49m\u001b[43m:\u001b[49m\u001b[43m \u001b[49m\u001b[43mv\u001b[49m\u001b[43m \u001b[49m\u001b[38;5;28;43;01mfor\u001b[39;49;00m\u001b[43m \u001b[49m\u001b[43mk\u001b[49m\u001b[43m,\u001b[49m\u001b[43m \u001b[49m\u001b[43mv\u001b[49m\u001b[43m \u001b[49m\u001b[38;5;129;43;01min\u001b[39;49;00m\u001b[43m \u001b[49m\u001b[43mconfig\u001b[49m\u001b[38;5;241;43m.\u001b[39;49m\u001b[43mitems\u001b[49m\u001b[43m(\u001b[49m\u001b[43m)\u001b[49m\u001b[43m \u001b[49m\u001b[38;5;28;43;01mif\u001b[39;49;00m\u001b[43m \u001b[49m\u001b[43mv\u001b[49m\u001b[43m \u001b[49m\u001b[38;5;129;43;01mis\u001b[39;49;00m\u001b[43m \u001b[49m\u001b[38;5;129;43;01mnot\u001b[39;49;00m\u001b[43m \u001b[49m\u001b[38;5;28;43;01mNone\u001b[39;49;00m\u001b[43m}\u001b[49m\u001b[43m)\u001b[49m\u001b[43m,\u001b[49m\n\u001b[0;32m    386\u001b[0m \u001b[43m    \u001b[49m\u001b[43mreturn_only_outputs\u001b[49m\u001b[38;5;241;43m=\u001b[39;49m\u001b[43mreturn_only_outputs\u001b[49m\u001b[43m,\u001b[49m\n\u001b[0;32m    387\u001b[0m \u001b[43m    \u001b[49m\u001b[43minclude_run_info\u001b[49m\u001b[38;5;241;43m=\u001b[39;49m\u001b[43minclude_run_info\u001b[49m\u001b[43m,\u001b[49m\n\u001b[0;32m    388\u001b[0m \u001b[43m\u001b[49m\u001b[43m)\u001b[49m\n",
      "File \u001b[1;32md:\\MusaddiqueHussainLabs\\omniqhub\\.conda\\Lib\\site-packages\\langchain\\chains\\base.py:168\u001b[0m, in \u001b[0;36mChain.invoke\u001b[1;34m(self, input, config, **kwargs)\u001b[0m\n\u001b[0;32m    166\u001b[0m \u001b[38;5;28;01mexcept\u001b[39;00m \u001b[38;5;167;01mBaseException\u001b[39;00m \u001b[38;5;28;01mas\u001b[39;00m e:\n\u001b[0;32m    167\u001b[0m     run_manager\u001b[38;5;241m.\u001b[39mon_chain_error(e)\n\u001b[1;32m--> 168\u001b[0m     \u001b[38;5;28;01mraise\u001b[39;00m e\n\u001b[0;32m    169\u001b[0m run_manager\u001b[38;5;241m.\u001b[39mon_chain_end(outputs)\n\u001b[0;32m    171\u001b[0m \u001b[38;5;28;01mif\u001b[39;00m include_run_info:\n",
      "File \u001b[1;32md:\\MusaddiqueHussainLabs\\omniqhub\\.conda\\Lib\\site-packages\\langchain\\chains\\base.py:158\u001b[0m, in \u001b[0;36mChain.invoke\u001b[1;34m(self, input, config, **kwargs)\u001b[0m\n\u001b[0;32m    155\u001b[0m \u001b[38;5;28;01mtry\u001b[39;00m:\n\u001b[0;32m    156\u001b[0m     \u001b[38;5;28mself\u001b[39m\u001b[38;5;241m.\u001b[39m_validate_inputs(inputs)\n\u001b[0;32m    157\u001b[0m     outputs \u001b[38;5;241m=\u001b[39m (\n\u001b[1;32m--> 158\u001b[0m         \u001b[38;5;28;43mself\u001b[39;49m\u001b[38;5;241;43m.\u001b[39;49m\u001b[43m_call\u001b[49m\u001b[43m(\u001b[49m\u001b[43minputs\u001b[49m\u001b[43m,\u001b[49m\u001b[43m \u001b[49m\u001b[43mrun_manager\u001b[49m\u001b[38;5;241;43m=\u001b[39;49m\u001b[43mrun_manager\u001b[49m\u001b[43m)\u001b[49m\n\u001b[0;32m    159\u001b[0m         \u001b[38;5;28;01mif\u001b[39;00m new_arg_supported\n\u001b[0;32m    160\u001b[0m         \u001b[38;5;28;01melse\u001b[39;00m \u001b[38;5;28mself\u001b[39m\u001b[38;5;241m.\u001b[39m_call(inputs)\n\u001b[0;32m    161\u001b[0m     )\n\u001b[0;32m    163\u001b[0m     final_outputs: Dict[\u001b[38;5;28mstr\u001b[39m, Any] \u001b[38;5;241m=\u001b[39m \u001b[38;5;28mself\u001b[39m\u001b[38;5;241m.\u001b[39mprep_outputs(\n\u001b[0;32m    164\u001b[0m         inputs, outputs, return_only_outputs\n\u001b[0;32m    165\u001b[0m     )\n\u001b[0;32m    166\u001b[0m \u001b[38;5;28;01mexcept\u001b[39;00m \u001b[38;5;167;01mBaseException\u001b[39;00m \u001b[38;5;28;01mas\u001b[39;00m e:\n",
      "File \u001b[1;32md:\\MusaddiqueHussainLabs\\omniqhub\\.conda\\Lib\\site-packages\\langchain\\chains\\llm.py:104\u001b[0m, in \u001b[0;36mLLMChain._call\u001b[1;34m(self, inputs, run_manager)\u001b[0m\n\u001b[0;32m     98\u001b[0m \u001b[38;5;28;01mdef\u001b[39;00m \u001b[38;5;21m_call\u001b[39m(\n\u001b[0;32m     99\u001b[0m     \u001b[38;5;28mself\u001b[39m,\n\u001b[0;32m    100\u001b[0m     inputs: Dict[\u001b[38;5;28mstr\u001b[39m, Any],\n\u001b[0;32m    101\u001b[0m     run_manager: Optional[CallbackManagerForChainRun] \u001b[38;5;241m=\u001b[39m \u001b[38;5;28;01mNone\u001b[39;00m,\n\u001b[0;32m    102\u001b[0m ) \u001b[38;5;241m-\u001b[39m\u001b[38;5;241m>\u001b[39m Dict[\u001b[38;5;28mstr\u001b[39m, \u001b[38;5;28mstr\u001b[39m]:\n\u001b[0;32m    103\u001b[0m     response \u001b[38;5;241m=\u001b[39m \u001b[38;5;28mself\u001b[39m\u001b[38;5;241m.\u001b[39mgenerate([inputs], run_manager\u001b[38;5;241m=\u001b[39mrun_manager)\n\u001b[1;32m--> 104\u001b[0m     \u001b[38;5;28;01mreturn\u001b[39;00m \u001b[38;5;28;43mself\u001b[39;49m\u001b[38;5;241;43m.\u001b[39;49m\u001b[43mcreate_outputs\u001b[49m\u001b[43m(\u001b[49m\u001b[43mresponse\u001b[49m\u001b[43m)\u001b[49m[\u001b[38;5;241m0\u001b[39m]\n",
      "File \u001b[1;32md:\\MusaddiqueHussainLabs\\omniqhub\\.conda\\Lib\\site-packages\\langchain\\chains\\llm.py:258\u001b[0m, in \u001b[0;36mLLMChain.create_outputs\u001b[1;34m(self, llm_result)\u001b[0m\n\u001b[0;32m    256\u001b[0m \u001b[38;5;28;01mdef\u001b[39;00m \u001b[38;5;21mcreate_outputs\u001b[39m(\u001b[38;5;28mself\u001b[39m, llm_result: LLMResult) \u001b[38;5;241m-\u001b[39m\u001b[38;5;241m>\u001b[39m List[Dict[\u001b[38;5;28mstr\u001b[39m, Any]]:\n\u001b[0;32m    257\u001b[0m \u001b[38;5;250m    \u001b[39m\u001b[38;5;124;03m\"\"\"Create outputs from response.\"\"\"\u001b[39;00m\n\u001b[1;32m--> 258\u001b[0m     result \u001b[38;5;241m=\u001b[39m \u001b[43m[\u001b[49m\n\u001b[0;32m    259\u001b[0m \u001b[43m        \u001b[49m\u001b[38;5;66;43;03m# Get the text of the top generated string.\u001b[39;49;00m\n\u001b[0;32m    260\u001b[0m \u001b[43m        \u001b[49m\u001b[43m{\u001b[49m\n\u001b[0;32m    261\u001b[0m \u001b[43m            \u001b[49m\u001b[38;5;28;43mself\u001b[39;49m\u001b[38;5;241;43m.\u001b[39;49m\u001b[43moutput_key\u001b[49m\u001b[43m:\u001b[49m\u001b[43m \u001b[49m\u001b[38;5;28;43mself\u001b[39;49m\u001b[38;5;241;43m.\u001b[39;49m\u001b[43moutput_parser\u001b[49m\u001b[38;5;241;43m.\u001b[39;49m\u001b[43mparse_result\u001b[49m\u001b[43m(\u001b[49m\u001b[43mgeneration\u001b[49m\u001b[43m)\u001b[49m\u001b[43m,\u001b[49m\n\u001b[0;32m    262\u001b[0m \u001b[43m            \u001b[49m\u001b[38;5;124;43m\"\u001b[39;49m\u001b[38;5;124;43mfull_generation\u001b[39;49m\u001b[38;5;124;43m\"\u001b[39;49m\u001b[43m:\u001b[49m\u001b[43m \u001b[49m\u001b[43mgeneration\u001b[49m\u001b[43m,\u001b[49m\n\u001b[0;32m    263\u001b[0m \u001b[43m        \u001b[49m\u001b[43m}\u001b[49m\n\u001b[0;32m    264\u001b[0m \u001b[43m        \u001b[49m\u001b[38;5;28;43;01mfor\u001b[39;49;00m\u001b[43m \u001b[49m\u001b[43mgeneration\u001b[49m\u001b[43m \u001b[49m\u001b[38;5;129;43;01min\u001b[39;49;00m\u001b[43m \u001b[49m\u001b[43mllm_result\u001b[49m\u001b[38;5;241;43m.\u001b[39;49m\u001b[43mgenerations\u001b[49m\n\u001b[0;32m    265\u001b[0m \u001b[43m    \u001b[49m\u001b[43m]\u001b[49m\n\u001b[0;32m    266\u001b[0m     \u001b[38;5;28;01mif\u001b[39;00m \u001b[38;5;28mself\u001b[39m\u001b[38;5;241m.\u001b[39mreturn_final_only:\n\u001b[0;32m    267\u001b[0m         result \u001b[38;5;241m=\u001b[39m [{\u001b[38;5;28mself\u001b[39m\u001b[38;5;241m.\u001b[39moutput_key: r[\u001b[38;5;28mself\u001b[39m\u001b[38;5;241m.\u001b[39moutput_key]} \u001b[38;5;28;01mfor\u001b[39;00m r \u001b[38;5;129;01min\u001b[39;00m result]\n",
      "File \u001b[1;32md:\\MusaddiqueHussainLabs\\omniqhub\\.conda\\Lib\\site-packages\\langchain\\chains\\llm.py:261\u001b[0m, in \u001b[0;36m<listcomp>\u001b[1;34m(.0)\u001b[0m\n\u001b[0;32m    256\u001b[0m \u001b[38;5;28;01mdef\u001b[39;00m \u001b[38;5;21mcreate_outputs\u001b[39m(\u001b[38;5;28mself\u001b[39m, llm_result: LLMResult) \u001b[38;5;241m-\u001b[39m\u001b[38;5;241m>\u001b[39m List[Dict[\u001b[38;5;28mstr\u001b[39m, Any]]:\n\u001b[0;32m    257\u001b[0m \u001b[38;5;250m    \u001b[39m\u001b[38;5;124;03m\"\"\"Create outputs from response.\"\"\"\u001b[39;00m\n\u001b[0;32m    258\u001b[0m     result \u001b[38;5;241m=\u001b[39m [\n\u001b[0;32m    259\u001b[0m         \u001b[38;5;66;03m# Get the text of the top generated string.\u001b[39;00m\n\u001b[0;32m    260\u001b[0m         {\n\u001b[1;32m--> 261\u001b[0m             \u001b[38;5;28mself\u001b[39m\u001b[38;5;241m.\u001b[39moutput_key: \u001b[38;5;28;43mself\u001b[39;49m\u001b[38;5;241;43m.\u001b[39;49m\u001b[43moutput_parser\u001b[49m\u001b[38;5;241;43m.\u001b[39;49m\u001b[43mparse_result\u001b[49m\u001b[43m(\u001b[49m\u001b[43mgeneration\u001b[49m\u001b[43m)\u001b[49m,\n\u001b[0;32m    262\u001b[0m             \u001b[38;5;124m\"\u001b[39m\u001b[38;5;124mfull_generation\u001b[39m\u001b[38;5;124m\"\u001b[39m: generation,\n\u001b[0;32m    263\u001b[0m         }\n\u001b[0;32m    264\u001b[0m         \u001b[38;5;28;01mfor\u001b[39;00m generation \u001b[38;5;129;01min\u001b[39;00m llm_result\u001b[38;5;241m.\u001b[39mgenerations\n\u001b[0;32m    265\u001b[0m     ]\n\u001b[0;32m    266\u001b[0m     \u001b[38;5;28;01mif\u001b[39;00m \u001b[38;5;28mself\u001b[39m\u001b[38;5;241m.\u001b[39mreturn_final_only:\n\u001b[0;32m    267\u001b[0m         result \u001b[38;5;241m=\u001b[39m [{\u001b[38;5;28mself\u001b[39m\u001b[38;5;241m.\u001b[39moutput_key: r[\u001b[38;5;28mself\u001b[39m\u001b[38;5;241m.\u001b[39moutput_key]} \u001b[38;5;28;01mfor\u001b[39;00m r \u001b[38;5;129;01min\u001b[39;00m result]\n",
      "File \u001b[1;32md:\\MusaddiqueHussainLabs\\omniqhub\\.conda\\Lib\\site-packages\\langchain\\output_parsers\\pydantic.py:23\u001b[0m, in \u001b[0;36mPydanticOutputParser.parse_result\u001b[1;34m(self, result, partial)\u001b[0m\n\u001b[0;32m     22\u001b[0m \u001b[38;5;28;01mdef\u001b[39;00m \u001b[38;5;21mparse_result\u001b[39m(\u001b[38;5;28mself\u001b[39m, result: List[Generation], \u001b[38;5;241m*\u001b[39m, partial: \u001b[38;5;28mbool\u001b[39m \u001b[38;5;241m=\u001b[39m \u001b[38;5;28;01mFalse\u001b[39;00m) \u001b[38;5;241m-\u001b[39m\u001b[38;5;241m>\u001b[39m Any:\n\u001b[1;32m---> 23\u001b[0m     json_object \u001b[38;5;241m=\u001b[39m \u001b[38;5;28;43msuper\u001b[39;49m\u001b[43m(\u001b[49m\u001b[43m)\u001b[49m\u001b[38;5;241;43m.\u001b[39;49m\u001b[43mparse_result\u001b[49m\u001b[43m(\u001b[49m\u001b[43mresult\u001b[49m\u001b[43m)\u001b[49m\n\u001b[0;32m     24\u001b[0m     \u001b[38;5;28;01mtry\u001b[39;00m:\n\u001b[0;32m     25\u001b[0m         \u001b[38;5;28;01mreturn\u001b[39;00m \u001b[38;5;28mself\u001b[39m\u001b[38;5;241m.\u001b[39mpydantic_object\u001b[38;5;241m.\u001b[39mparse_obj(json_object)\n",
      "File \u001b[1;32md:\\MusaddiqueHussainLabs\\omniqhub\\.conda\\Lib\\site-packages\\langchain_core\\output_parsers\\json.py:215\u001b[0m, in \u001b[0;36mJsonOutputParser.parse_result\u001b[1;34m(self, result, partial)\u001b[0m\n\u001b[0;32m    213\u001b[0m \u001b[38;5;28;01mexcept\u001b[39;00m JSONDecodeError \u001b[38;5;28;01mas\u001b[39;00m e:\n\u001b[0;32m    214\u001b[0m     msg \u001b[38;5;241m=\u001b[39m \u001b[38;5;124mf\u001b[39m\u001b[38;5;124m\"\u001b[39m\u001b[38;5;124mInvalid json output: \u001b[39m\u001b[38;5;132;01m{\u001b[39;00mtext\u001b[38;5;132;01m}\u001b[39;00m\u001b[38;5;124m\"\u001b[39m\n\u001b[1;32m--> 215\u001b[0m     \u001b[38;5;28;01mraise\u001b[39;00m OutputParserException(msg, llm_output\u001b[38;5;241m=\u001b[39mtext) \u001b[38;5;28;01mfrom\u001b[39;00m \u001b[38;5;21;01me\u001b[39;00m\n",
      "\u001b[1;31mOutputParserException\u001b[0m: Invalid json output: - What are the comprehensive benefits covered under my Northwind Health Plus insurance plan?\n- List all healthcare services encompassed by my Northwind Health Plus insurance policy.\n- Provide a detailed breakdown of the medical services available to me as a Northwind Health Plus subscriber.\n- What healthcare procedures and treatments are included in the coverage of my Northwind Health Plus plan?\n- What are the specific medical services and treatments that I am eligible to receive under my Northwind Health Plus insurance coverage?"
     ]
    }
   ],
   "source": [
    "from typing import List\n",
    "\n",
    "from langchain.retrievers.multi_query import MultiQueryRetriever\n",
    "\n",
    "from langchain.chains import LLMChain\n",
    "from langchain.output_parsers import PydanticOutputParser\n",
    "from langchain_core.prompts import PromptTemplate\n",
    "from pydantic.v1 import BaseModel, Field\n",
    "\n",
    "\n",
    "# Output parser will split the LLM result into a list of queries\n",
    "class LineList(BaseModel):\n",
    "    # \"lines\" is the key (attribute name) of the parsed output\n",
    "    lines: List[str] = Field(description=\"Lines of text\")\n",
    "\n",
    "\n",
    "class LineListOutputParser(PydanticOutputParser):\n",
    "    def __init__(self) -> None:\n",
    "        super().__init__(pydantic_object=LineList)\n",
    "\n",
    "    def parse(self, text: str) -> LineList:\n",
    "        lines = text.strip().split(\"\\n\")\n",
    "        return LineList(lines=lines)\n",
    "\n",
    "\n",
    "output_parser = LineListOutputParser()\n",
    "\n",
    "llm = ChatGoogleGenerativeAI(model=\"gemini-pro\", convert_system_message_to_human=True)\n",
    "\n",
    "QUERY_PROMPT = PromptTemplate(\n",
    "    input_variables=[\"question\"],\n",
    "    template=\"\"\"You are an AI language model assistant. Your task is to generate five \n",
    "    different versions of the given user question to retrieve relevant documents from a vector \n",
    "    database. By generating multiple perspectives on the user question, your goal is to help\n",
    "    the user overcome some of the limitations of the distance-based similarity search. \n",
    "    Provide these alternative questions separated by newlines.\n",
    "    Original question: {question}\"\"\",\n",
    ")\n",
    "\n",
    "# Chain\n",
    "llm_chain = LLMChain(llm=llm, prompt=QUERY_PROMPT, output_parser=output_parser)\n",
    "\n",
    "# Other inputs\n",
    "question = \"What are all services included in my Northwind Health Plus plan?\"\n",
    "\n",
    "# Run\n",
    "retriever = MultiQueryRetriever(\n",
    "    retriever=vector_store.as_retriever(), llm_chain=llm_chain, parser_key=\"lines\"\n",
    ")  # \"lines\" is the key (attribute name) of the parsed output\n",
    "\n",
    "# Results\n",
    "unique_docs = retriever.get_relevant_documents(\n",
    "    query=question\n",
    ")\n",
    "# len(unique_docs)"
   ]
  }
 ],
 "metadata": {
  "kernelspec": {
   "display_name": "Python 3",
   "language": "python",
   "name": "python3"
  },
  "language_info": {
   "codemirror_mode": {
    "name": "ipython",
    "version": 3
   },
   "file_extension": ".py",
   "mimetype": "text/x-python",
   "name": "python",
   "nbconvert_exporter": "python",
   "pygments_lexer": "ipython3",
   "version": "3.11.7"
  }
 },
 "nbformat": 4,
 "nbformat_minor": 2
}
